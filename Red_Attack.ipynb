{
  "nbformat": 4,
  "nbformat_minor": 0,
  "metadata": {
    "colab": {
      "name": "Red Attack",
      "provenance": [],
      "collapsed_sections": []
    },
    "kernelspec": {
      "name": "python3",
      "display_name": "Python 3"
    },
    "accelerator": "GPU"
  },
  "cells": [
    {
      "cell_type": "markdown",
      "metadata": {
        "id": "FXcpax_AM6MD",
        "colab_type": "text"
      },
      "source": [
        "**IMPORTING LIBRARIES**"
      ]
    },
    {
      "cell_type": "code",
      "metadata": {
        "id": "0W7bINGjM4g5",
        "colab_type": "code",
        "colab": {
          "base_uri": "https://localhost:8080/",
          "height": 102
        },
        "outputId": "bdb97f16-a1fb-407d-c3f2-4a4a4b6be69e"
      },
      "source": [
        "!pip install Augmentor\n",
        "import Augmentor \n",
        "import os, glob\n",
        "import cv2\n",
        "import numpy as np\n",
        "from sklearn.model_selection import train_test_split\n",
        "from keras.models import Sequential\n",
        "from keras.layers import Dense, Dropout, Activation, Flatten\n",
        "from keras.layers import Convolution2D, MaxPooling2D\n",
        "import tensorflow as tf\n",
        "import matplotlib.pyplot as plt"
      ],
      "execution_count": 34,
      "outputs": [
        {
          "output_type": "stream",
          "text": [
            "Requirement already satisfied: Augmentor in /usr/local/lib/python3.6/dist-packages (0.2.8)\n",
            "Requirement already satisfied: tqdm>=4.9.0 in /usr/local/lib/python3.6/dist-packages (from Augmentor) (4.41.1)\n",
            "Requirement already satisfied: future>=0.16.0 in /usr/local/lib/python3.6/dist-packages (from Augmentor) (0.16.0)\n",
            "Requirement already satisfied: numpy>=1.11.0 in /usr/local/lib/python3.6/dist-packages (from Augmentor) (1.18.5)\n",
            "Requirement already satisfied: Pillow>=5.2.0 in /usr/local/lib/python3.6/dist-packages (from Augmentor) (7.0.0)\n"
          ],
          "name": "stdout"
        }
      ]
    },
    {
      "cell_type": "markdown",
      "metadata": {
        "id": "RQTr22-6DU3L",
        "colab_type": "text"
      },
      "source": [
        "**MOUNTING DRIVE**"
      ]
    },
    {
      "cell_type": "code",
      "metadata": {
        "id": "yQUp50QDx1rq",
        "colab_type": "code",
        "colab": {
          "base_uri": "https://localhost:8080/",
          "height": 34
        },
        "outputId": "598857c0-5d4b-40bb-9e82-5887e248f797"
      },
      "source": [
        "from google.colab import drive\n",
        "drive.mount('/content/gdrive')"
      ],
      "execution_count": 2,
      "outputs": [
        {
          "output_type": "stream",
          "text": [
            "Mounted at /content/gdrive\n"
          ],
          "name": "stdout"
        }
      ]
    },
    {
      "cell_type": "code",
      "metadata": {
        "id": "yb5rkN4N-rqx",
        "colab_type": "code",
        "colab": {}
      },
      "source": [
        "def unzipping_dataset():\n",
        "  !unzip 'gdrive/My Drive/dataset/trainingbenign.zip'\n",
        "  !unzip 'gdrive/My Drive/dataset/trainingmalign.zip'\n",
        "  !unzip 'gdrive/My Drive/dataset/testbenign.zip'\n",
        "  !unzip 'gdrive/My Drive/dataset/testmalign.zip'"
      ],
      "execution_count": 3,
      "outputs": []
    },
    {
      "cell_type": "markdown",
      "metadata": {
        "id": "0W1Wft3GDHTJ",
        "colab_type": "text"
      },
      "source": [
        "**UNZIPPING DATASET** "
      ]
    },
    {
      "cell_type": "code",
      "metadata": {
        "id": "Wt15f9Dy-_Ij",
        "colab_type": "code",
        "colab": {
          "base_uri": "https://localhost:8080/",
          "height": 1000
        },
        "outputId": "47538a14-03f3-4b5c-f7b6-6c84ba97b585"
      },
      "source": [
        "unzipping_dataset()"
      ],
      "execution_count": 4,
      "outputs": [
        {
          "output_type": "stream",
          "text": [
            "Archive:  gdrive/My Drive/dataset/trainingbenign.zip\n",
            "  inflating: trainingbenign/us1.bmp  \n",
            "  inflating: trainingbenign/us11.bmp  \n",
            "  inflating: trainingbenign/us12.bmp  \n",
            "  inflating: trainingbenign/us13.bmp  \n",
            "  inflating: trainingbenign/us14.bmp  \n",
            "  inflating: trainingbenign/us16.bmp  \n",
            "  inflating: trainingbenign/us17.bmp  \n",
            "  inflating: trainingbenign/us18.bmp  \n",
            "  inflating: trainingbenign/us19.bmp  \n",
            "  inflating: trainingbenign/us2.bmp  \n",
            "  inflating: trainingbenign/us21.bmp  \n",
            "  inflating: trainingbenign/us22.bmp  \n",
            "  inflating: trainingbenign/us23.bmp  \n",
            "  inflating: trainingbenign/us24.bmp  \n",
            "  inflating: trainingbenign/us26.bmp  \n",
            "  inflating: trainingbenign/us27.bmp  \n",
            "  inflating: trainingbenign/us28.bmp  \n",
            "  inflating: trainingbenign/us29.bmp  \n",
            "  inflating: trainingbenign/us3.bmp  \n",
            "  inflating: trainingbenign/us31.bmp  \n",
            "  inflating: trainingbenign/us32.bmp  \n",
            "  inflating: trainingbenign/us33.bmp  \n",
            "  inflating: trainingbenign/us34.bmp  \n",
            "  inflating: trainingbenign/us36.bmp  \n",
            "  inflating: trainingbenign/us37.bmp  \n",
            "  inflating: trainingbenign/us38.bmp  \n",
            "  inflating: trainingbenign/us39.bmp  \n",
            "  inflating: trainingbenign/us4.bmp  \n",
            "  inflating: trainingbenign/us41.bmp  \n",
            "  inflating: trainingbenign/us42.bmp  \n",
            "  inflating: trainingbenign/us43.bmp  \n",
            "  inflating: trainingbenign/us44.bmp  \n",
            "  inflating: trainingbenign/us46.bmp  \n",
            "  inflating: trainingbenign/us47.bmp  \n",
            "  inflating: trainingbenign/us48.bmp  \n",
            "  inflating: trainingbenign/us49.bmp  \n",
            "  inflating: trainingbenign/us51.bmp  \n",
            "  inflating: trainingbenign/us52.bmp  \n",
            "  inflating: trainingbenign/us53.bmp  \n",
            "  inflating: trainingbenign/us54.bmp  \n",
            "  inflating: trainingbenign/us56.bmp  \n",
            "  inflating: trainingbenign/us57.bmp  \n",
            "  inflating: trainingbenign/us58.bmp  \n",
            "  inflating: trainingbenign/us59.bmp  \n",
            "  inflating: trainingbenign/us6.bmp  \n",
            "  inflating: trainingbenign/us61.bmp  \n",
            "  inflating: trainingbenign/us62.bmp  \n",
            "  inflating: trainingbenign/us63.bmp  \n",
            "  inflating: trainingbenign/us64.bmp  \n",
            "  inflating: trainingbenign/us66.bmp  \n",
            "  inflating: trainingbenign/us67.bmp  \n",
            "  inflating: trainingbenign/us68.bmp  \n",
            "  inflating: trainingbenign/us69.bmp  \n",
            "  inflating: trainingbenign/us7.bmp  \n",
            "  inflating: trainingbenign/us71.bmp  \n",
            "  inflating: trainingbenign/us72.bmp  \n",
            "  inflating: trainingbenign/us73.bmp  \n",
            "  inflating: trainingbenign/us74.bmp  \n",
            "  inflating: trainingbenign/us76.bmp  \n",
            "  inflating: trainingbenign/us77.bmp  \n",
            "  inflating: trainingbenign/us78.bmp  \n",
            "  inflating: trainingbenign/us79.bmp  \n",
            "  inflating: trainingbenign/us8.bmp  \n",
            "  inflating: trainingbenign/us81.bmp  \n",
            "  inflating: trainingbenign/us82.bmp  \n",
            "  inflating: trainingbenign/us83.bmp  \n",
            "  inflating: trainingbenign/us84.bmp  \n",
            "  inflating: trainingbenign/us86.bmp  \n",
            "  inflating: trainingbenign/us87.bmp  \n",
            "  inflating: trainingbenign/us88.bmp  \n",
            "  inflating: trainingbenign/us89.bmp  \n",
            "  inflating: trainingbenign/us9.bmp  \n",
            "  inflating: trainingbenign/us91.bmp  \n",
            "  inflating: trainingbenign/us92.bmp  \n",
            "  inflating: trainingbenign/us93.bmp  \n",
            "  inflating: trainingbenign/us94.bmp  \n",
            "  inflating: trainingbenign/us96.bmp  \n",
            "  inflating: trainingbenign/us97.bmp  \n",
            "  inflating: trainingbenign/us98.bmp  \n",
            "  inflating: trainingbenign/us99.bmp  \n",
            "Archive:  gdrive/My Drive/dataset/trainingmalign.zip\n",
            "  inflating: trainingmalign/us101.bmp  \n",
            "  inflating: trainingmalign/us102.bmp  \n",
            "  inflating: trainingmalign/us103.bmp  \n",
            "  inflating: trainingmalign/us104.bmp  \n",
            "  inflating: trainingmalign/us106.bmp  \n",
            "  inflating: trainingmalign/us107.bmp  \n",
            "  inflating: trainingmalign/us108.bmp  \n",
            "  inflating: trainingmalign/us109.bmp  \n",
            "  inflating: trainingmalign/us111.bmp  \n",
            "  inflating: trainingmalign/us112.bmp  \n",
            "  inflating: trainingmalign/us113.bmp  \n",
            "  inflating: trainingmalign/us114.bmp  \n",
            "  inflating: trainingmalign/us116.bmp  \n",
            "  inflating: trainingmalign/us117.bmp  \n",
            "  inflating: trainingmalign/us118.bmp  \n",
            "  inflating: trainingmalign/us119.bmp  \n",
            "  inflating: trainingmalign/us121.bmp  \n",
            "  inflating: trainingmalign/us122.bmp  \n",
            "  inflating: trainingmalign/us123.bmp  \n",
            "  inflating: trainingmalign/us124.bmp  \n",
            "  inflating: trainingmalign/us126.bmp  \n",
            "  inflating: trainingmalign/us127.bmp  \n",
            "  inflating: trainingmalign/us128.bmp  \n",
            "  inflating: trainingmalign/us129.bmp  \n",
            "  inflating: trainingmalign/us131.bmp  \n",
            "  inflating: trainingmalign/us132.bmp  \n",
            "  inflating: trainingmalign/us133.bmp  \n",
            "  inflating: trainingmalign/us134.bmp  \n",
            "  inflating: trainingmalign/us136.bmp  \n",
            "  inflating: trainingmalign/us137.bmp  \n",
            "  inflating: trainingmalign/us138.bmp  \n",
            "  inflating: trainingmalign/us139.bmp  \n",
            "  inflating: trainingmalign/us141.bmp  \n",
            "  inflating: trainingmalign/us142.bmp  \n",
            "  inflating: trainingmalign/us143.bmp  \n",
            "  inflating: trainingmalign/us144.bmp  \n",
            "  inflating: trainingmalign/us146.bmp  \n",
            "  inflating: trainingmalign/us147.bmp  \n",
            "  inflating: trainingmalign/us148.bmp  \n",
            "  inflating: trainingmalign/us149.bmp  \n",
            "  inflating: trainingmalign/us151.bmp  \n",
            "  inflating: trainingmalign/us152.bmp  \n",
            "  inflating: trainingmalign/us153.bmp  \n",
            "  inflating: trainingmalign/us154.bmp  \n",
            "  inflating: trainingmalign/us156.bmp  \n",
            "  inflating: trainingmalign/us157.bmp  \n",
            "  inflating: trainingmalign/us158.bmp  \n",
            "  inflating: trainingmalign/us159.bmp  \n",
            "  inflating: trainingmalign/us161.bmp  \n",
            "  inflating: trainingmalign/us162.bmp  \n",
            "  inflating: trainingmalign/us163.bmp  \n",
            "  inflating: trainingmalign/us164.bmp  \n",
            "  inflating: trainingmalign/us166.bmp  \n",
            "  inflating: trainingmalign/us167.bmp  \n",
            "  inflating: trainingmalign/us168.bmp  \n",
            "  inflating: trainingmalign/us169.bmp  \n",
            "  inflating: trainingmalign/us171.bmp  \n",
            "  inflating: trainingmalign/us172.bmp  \n",
            "  inflating: trainingmalign/us173.bmp  \n",
            "  inflating: trainingmalign/us174.bmp  \n",
            "  inflating: trainingmalign/us176.bmp  \n",
            "  inflating: trainingmalign/us177.bmp  \n",
            "  inflating: trainingmalign/us178.bmp  \n",
            "  inflating: trainingmalign/us179.bmp  \n",
            "  inflating: trainingmalign/us181.bmp  \n",
            "  inflating: trainingmalign/us182.bmp  \n",
            "  inflating: trainingmalign/us183.bmp  \n",
            "  inflating: trainingmalign/us184.bmp  \n",
            "  inflating: trainingmalign/us186.bmp  \n",
            "  inflating: trainingmalign/us187.bmp  \n",
            "  inflating: trainingmalign/us188.bmp  \n",
            "  inflating: trainingmalign/us189.bmp  \n",
            "  inflating: trainingmalign/us191.bmp  \n",
            "  inflating: trainingmalign/us192.bmp  \n",
            "  inflating: trainingmalign/us193.bmp  \n",
            "  inflating: trainingmalign/us194.bmp  \n",
            "  inflating: trainingmalign/us196.bmp  \n",
            "  inflating: trainingmalign/us197.bmp  \n",
            "  inflating: trainingmalign/us198.bmp  \n",
            "  inflating: trainingmalign/us199.bmp  \n",
            "  inflating: trainingmalign/us201.bmp  \n",
            "  inflating: trainingmalign/us202.bmp  \n",
            "  inflating: trainingmalign/us203.bmp  \n",
            "  inflating: trainingmalign/us204.bmp  \n",
            "  inflating: trainingmalign/us206.bmp  \n",
            "  inflating: trainingmalign/us207.bmp  \n",
            "  inflating: trainingmalign/us208.bmp  \n",
            "  inflating: trainingmalign/us209.bmp  \n",
            "  inflating: trainingmalign/us211.bmp  \n",
            "  inflating: trainingmalign/us212.bmp  \n",
            "  inflating: trainingmalign/us213.bmp  \n",
            "  inflating: trainingmalign/us214.bmp  \n",
            "  inflating: trainingmalign/us216.bmp  \n",
            "  inflating: trainingmalign/us217.bmp  \n",
            "  inflating: trainingmalign/us218.bmp  \n",
            "  inflating: trainingmalign/us219.bmp  \n",
            "  inflating: trainingmalign/us221.bmp  \n",
            "  inflating: trainingmalign/us222.bmp  \n",
            "  inflating: trainingmalign/us223.bmp  \n",
            "  inflating: trainingmalign/us224.bmp  \n",
            "  inflating: trainingmalign/us226.bmp  \n",
            "  inflating: trainingmalign/us227.bmp  \n",
            "  inflating: trainingmalign/us228.bmp  \n",
            "  inflating: trainingmalign/us229.bmp  \n",
            "  inflating: trainingmalign/us231.bmp  \n",
            "  inflating: trainingmalign/us232.bmp  \n",
            "  inflating: trainingmalign/us233.bmp  \n",
            "  inflating: trainingmalign/us234.bmp  \n",
            "  inflating: trainingmalign/us236.bmp  \n",
            "  inflating: trainingmalign/us237.bmp  \n",
            "  inflating: trainingmalign/us238.bmp  \n",
            "  inflating: trainingmalign/us239.bmp  \n",
            "  inflating: trainingmalign/us241.bmp  \n",
            "  inflating: trainingmalign/us242.bmp  \n",
            "  inflating: trainingmalign/us243.bmp  \n",
            "  inflating: trainingmalign/us244.bmp  \n",
            "  inflating: trainingmalign/us246.bmp  \n",
            "  inflating: trainingmalign/us247.bmp  \n",
            "  inflating: trainingmalign/us248.bmp  \n",
            "  inflating: trainingmalign/us249.bmp  \n",
            "Archive:  gdrive/My Drive/dataset/testbenign.zip\n",
            "  inflating: testbenign/us10.bmp     \n",
            "  inflating: testbenign/us100.bmp    \n",
            "  inflating: testbenign/us15.bmp     \n",
            "  inflating: testbenign/us20.bmp     \n",
            "  inflating: testbenign/us25.bmp     \n",
            "  inflating: testbenign/us30.bmp     \n",
            "  inflating: testbenign/us35.bmp     \n",
            "  inflating: testbenign/us40.bmp     \n",
            "  inflating: testbenign/us45.bmp     \n",
            "  inflating: testbenign/us5.bmp      \n",
            "  inflating: testbenign/us50.bmp     \n",
            "  inflating: testbenign/us55.bmp     \n",
            "  inflating: testbenign/us60.bmp     \n",
            "  inflating: testbenign/us65.bmp     \n",
            "  inflating: testbenign/us70.bmp     \n",
            "  inflating: testbenign/us75.bmp     \n",
            "  inflating: testbenign/us80.bmp     \n",
            "  inflating: testbenign/us85.bmp     \n",
            "  inflating: testbenign/us90.bmp     \n",
            "  inflating: testbenign/us95.bmp     \n",
            "Archive:  gdrive/My Drive/dataset/testmalign.zip\n",
            "  inflating: testmalign/us105.bmp    \n",
            "  inflating: testmalign/us110.bmp    \n",
            "  inflating: testmalign/us115.bmp    \n",
            "  inflating: testmalign/us120.bmp    \n",
            "  inflating: testmalign/us125.bmp    \n",
            "  inflating: testmalign/us130.bmp    \n",
            "  inflating: testmalign/us135.bmp    \n",
            "  inflating: testmalign/us140.bmp    \n",
            "  inflating: testmalign/us145.bmp    \n",
            "  inflating: testmalign/us150.bmp    \n",
            "  inflating: testmalign/us155.bmp    \n",
            "  inflating: testmalign/us160.bmp    \n",
            "  inflating: testmalign/us165.bmp    \n",
            "  inflating: testmalign/us170.bmp    \n",
            "  inflating: testmalign/us175.bmp    \n",
            "  inflating: testmalign/us180.bmp    \n",
            "  inflating: testmalign/us185.bmp    \n",
            "  inflating: testmalign/us190.bmp    \n",
            "  inflating: testmalign/us195.bmp    \n",
            "  inflating: testmalign/us200.bmp    \n",
            "  inflating: testmalign/us205.bmp    \n",
            "  inflating: testmalign/us210.bmp    \n",
            "  inflating: testmalign/us215.bmp    \n",
            "  inflating: testmalign/us220.bmp    \n",
            "  inflating: testmalign/us225.bmp    \n",
            "  inflating: testmalign/us230.bmp    \n",
            "  inflating: testmalign/us235.bmp    \n",
            "  inflating: testmalign/us240.bmp    \n",
            "  inflating: testmalign/us245.bmp    \n",
            "  inflating: testmalign/us250.bmp    \n"
          ],
          "name": "stdout"
        }
      ]
    },
    {
      "cell_type": "markdown",
      "metadata": {
        "id": "I64tluOADc_5",
        "colab_type": "text"
      },
      "source": [
        "**DATA** **AUGMENTATION**"
      ]
    },
    {
      "cell_type": "code",
      "metadata": {
        "id": "fy-G1tfg_Em9",
        "colab_type": "code",
        "colab": {}
      },
      "source": [
        "# By default these will be written to the disk in a directory named \n",
        "# output relative to the path specified when initialising the p pipeline object above.\n",
        "\n",
        "def augmenting_benign(path):\n",
        "  p = Augmentor.Pipeline(path) \n",
        "  p.flip_left_right(0.5) \n",
        "  #p.black_and_white(0.1) \n",
        "  p.rotate(0.3, 10, 10) \n",
        "  p.skew(0.4, 0.5) \n",
        "  p.zoom(probability = 0.2, min_factor = 1.1, max_factor = 1.5) \n",
        "  p.sample(500) \n",
        "\n",
        "def augmenting_malignant(path):\n",
        "  p = Augmentor.Pipeline(path) \n",
        "  p.flip_left_right(0.5) \n",
        "  #p.black_and_white(0.1) \n",
        "  p.rotate(0.3, 10, 10) \n",
        "  p.skew(0.4, 0.5) \n",
        "  p.zoom(probability = 0.2, min_factor = 1.1, max_factor = 1.5) \n",
        "  p.sample(750) "
      ],
      "execution_count": 5,
      "outputs": []
    },
    {
      "cell_type": "code",
      "metadata": {
        "id": "rgVjiNg9Dd2k",
        "colab_type": "code",
        "colab": {
          "base_uri": "https://localhost:8080/",
          "height": 85
        },
        "outputId": "d1ca95ff-1f4f-4fec-dc61-f86e653b3e34"
      },
      "source": [
        "augmenting_benign ('trainingbenign')\n",
        "augmenting_malignant ('trainingmalign')"
      ],
      "execution_count": 6,
      "outputs": [
        {
          "output_type": "stream",
          "text": [
            "Processing <PIL.BmpImagePlugin.BmpImageFile image mode=L size=157x105 at 0x7F277A5B56D8>:   2%|▏         | 11/500 [00:00<00:05, 87.43 Samples/s]"
          ],
          "name": "stderr"
        },
        {
          "output_type": "stream",
          "text": [
            "Initialised with 80 image(s) found.\n",
            "Output directory set to trainingbenign/output."
          ],
          "name": "stdout"
        },
        {
          "output_type": "stream",
          "text": [
            "Processing <PIL.Image.Image image mode=L size=95x69 at 0x7F2774CD89B0>: 100%|██████████| 500/500 [00:01<00:00, 394.38 Samples/s]\n",
            "Processing <PIL.Image.Image image mode=L size=119x91 at 0x7F2774D33710>:   0%|          | 3/750 [00:00<02:20,  5.30 Samples/s]                "
          ],
          "name": "stderr"
        },
        {
          "output_type": "stream",
          "text": [
            "Initialised with 120 image(s) found.\n",
            "Output directory set to trainingmalign/output."
          ],
          "name": "stdout"
        },
        {
          "output_type": "stream",
          "text": [
            "Processing <PIL.Image.Image image mode=L size=183x147 at 0x7F2774D09B70>: 100%|██████████| 750/750 [00:02<00:00, 309.13 Samples/s]\n"
          ],
          "name": "stderr"
        }
      ]
    },
    {
      "cell_type": "markdown",
      "metadata": {
        "id": "MJkbMGn_jBHe",
        "colab_type": "text"
      },
      "source": [
        "**FORMING TRAINING DATA**"
      ]
    },
    {
      "cell_type": "code",
      "metadata": {
        "id": "buaPYmb4G7GI",
        "colab_type": "code",
        "colab": {}
      },
      "source": [
        "def enumerating (path):\n",
        "  images=[]\n",
        "  filelist = sorted(glob.glob(os.path.join(path, '*.bmp')))\n",
        "  for j, imagepath in enumerate(filelist):\n",
        "    img1 = cv2.imread(filelist[j])\n",
        "    img1 = cv2.resize(img1, (44, 44), interpolation=cv2.INTER_LINEAR)\n",
        "    images.append(img1)\n",
        "  return images\n",
        "\n",
        "def form_training_data (b_path, b_path_aug, m_path, m_path_aug):\n",
        "  images=[]\n",
        "  imgs = enumerating (b_path)\n",
        "  images.extend (imgs)\n",
        "  imgs = enumerating (b_path_aug)\n",
        "  images.extend (imgs)\n",
        "  print (len(images))\n",
        "  imgs = enumerating (m_path)\n",
        "  images.extend (imgs)\n",
        "  imgs = enumerating (m_path_aug)\n",
        "  images.extend (imgs)\n",
        "  print (len(images))\n",
        "  return images"
      ],
      "execution_count": 7,
      "outputs": []
    },
    {
      "cell_type": "code",
      "metadata": {
        "id": "2xt4oPtYEVFV",
        "colab_type": "code",
        "colab": {
          "base_uri": "https://localhost:8080/",
          "height": 51
        },
        "outputId": "629829bd-946d-4b93-c05b-ed9b14d4a368"
      },
      "source": [
        "images = form_training_data ('trainingbenign','trainingbenign/output','trainingmalign','trainingmalign/output')\n",
        "images = np.stack (images,axis = 0)"
      ],
      "execution_count": 8,
      "outputs": [
        {
          "output_type": "stream",
          "text": [
            "580\n",
            "1450\n"
          ],
          "name": "stdout"
        }
      ]
    },
    {
      "cell_type": "code",
      "metadata": {
        "id": "rDmMuhLqlxfD",
        "colab_type": "code",
        "colab": {
          "base_uri": "https://localhost:8080/",
          "height": 34
        },
        "outputId": "8b896eec-fe7d-4987-937b-f641824f6a78"
      },
      "source": [
        "images.shape"
      ],
      "execution_count": 9,
      "outputs": [
        {
          "output_type": "execute_result",
          "data": {
            "text/plain": [
              "(1450, 44, 44, 3)"
            ]
          },
          "metadata": {
            "tags": []
          },
          "execution_count": 9
        }
      ]
    },
    {
      "cell_type": "code",
      "metadata": {
        "id": "DquJ9yyCMGNf",
        "colab_type": "code",
        "colab": {
          "base_uri": "https://localhost:8080/",
          "height": 34
        },
        "outputId": "40977572-e10d-4961-f7b1-d2bb911ba03d"
      },
      "source": [
        "print (len(images))"
      ],
      "execution_count": 10,
      "outputs": [
        {
          "output_type": "stream",
          "text": [
            "1450\n"
          ],
          "name": "stdout"
        }
      ]
    },
    {
      "cell_type": "markdown",
      "metadata": {
        "id": "FWyOZ7AQjEkH",
        "colab_type": "text"
      },
      "source": [
        "**LABEL TO THE TRAINING IMAGES**"
      ]
    },
    {
      "cell_type": "code",
      "metadata": {
        "id": "FLchx9Y4jPDs",
        "colab_type": "code",
        "colab": {}
      },
      "source": [
        "labels = []\n",
        "for i in range (len(images)):\n",
        "  if (i<580):\n",
        "    labels.append (0)     #0 label for benign lesions\n",
        "  else:\n",
        "    labels.append (1)     #1 label for malignant lesions\n",
        "\n",
        "labels = np.reshape (np.stack(labels, axis = 0), (1450,1))"
      ],
      "execution_count": 11,
      "outputs": []
    },
    {
      "cell_type": "code",
      "metadata": {
        "id": "Aq40aE1XkMUj",
        "colab_type": "code",
        "colab": {
          "base_uri": "https://localhost:8080/",
          "height": 34
        },
        "outputId": "7ebfa0e4-2949-49e5-beb6-c5a0472668e4"
      },
      "source": [
        "labels.shape"
      ],
      "execution_count": 12,
      "outputs": [
        {
          "output_type": "execute_result",
          "data": {
            "text/plain": [
              "(1450, 1)"
            ]
          },
          "metadata": {
            "tags": []
          },
          "execution_count": 12
        }
      ]
    },
    {
      "cell_type": "markdown",
      "metadata": {
        "id": "7zuZQDoll6_J",
        "colab_type": "text"
      },
      "source": [
        "**TRAIN-TEST DATA SPLITTING**"
      ]
    },
    {
      "cell_type": "code",
      "metadata": {
        "id": "COCPqftZlQd0",
        "colab_type": "code",
        "colab": {}
      },
      "source": [
        "train_images, val_images, train_labels, val_labels = train_test_split(images, labels, test_size=0.2, random_state=42) "
      ],
      "execution_count": 13,
      "outputs": []
    },
    {
      "cell_type": "code",
      "metadata": {
        "id": "bjZ-GJVfmEV5",
        "colab_type": "code",
        "colab": {}
      },
      "source": [
        "# Normalize pixel values to be between 0 and 1\n",
        "train_images, val_images = train_images / 255.0, val_images / 255.0"
      ],
      "execution_count": 14,
      "outputs": []
    },
    {
      "cell_type": "markdown",
      "metadata": {
        "id": "Ten3Br7eOdNl",
        "colab_type": "text"
      },
      "source": [
        "**CREATING MODEL**"
      ]
    },
    {
      "cell_type": "code",
      "metadata": {
        "id": "GDR7t0mxmJrs",
        "colab_type": "code",
        "colab": {}
      },
      "source": [
        "def create_model():\n",
        "  model = Sequential()\n",
        "  model.add(Convolution2D(32, (3, 3), padding = 'same', activation='relu', input_shape=(44,44,3)))\n",
        "  model.add(MaxPooling2D(pool_size=(2,2)))\n",
        "  model.add(Convolution2D(64, (3, 3), padding ='same', activation='relu'))\n",
        "  model.add(MaxPooling2D(pool_size=(2,2)))\n",
        "  # model.add(Dropout(0.25))\n",
        "  model.add(Convolution2D(128, (3, 3),padding = 'same', activation='relu'))\n",
        "  model.add(MaxPooling2D(pool_size=(2,2)))\n",
        "  model.add(Dropout(0.25))\n",
        "  model.add(Flatten())\n",
        "  model.add(Dense(64, activation='tanh'))\n",
        "  # model.add(Dropout(0.5))\n",
        "  model.add(Dense(2, activation='softmax'))\n",
        "  return model"
      ],
      "execution_count": 15,
      "outputs": []
    },
    {
      "cell_type": "code",
      "metadata": {
        "id": "5U3zAFZnpM5a",
        "colab_type": "code",
        "colab": {
          "base_uri": "https://localhost:8080/",
          "height": 493
        },
        "outputId": "b78d9d0d-6dd1-481c-f03b-04c2358bc47b"
      },
      "source": [
        "model = create_model()\n",
        "model.summary()"
      ],
      "execution_count": 16,
      "outputs": [
        {
          "output_type": "stream",
          "text": [
            "Model: \"sequential\"\n",
            "_________________________________________________________________\n",
            "Layer (type)                 Output Shape              Param #   \n",
            "=================================================================\n",
            "conv2d (Conv2D)              (None, 44, 44, 32)        896       \n",
            "_________________________________________________________________\n",
            "max_pooling2d (MaxPooling2D) (None, 22, 22, 32)        0         \n",
            "_________________________________________________________________\n",
            "conv2d_1 (Conv2D)            (None, 22, 22, 64)        18496     \n",
            "_________________________________________________________________\n",
            "max_pooling2d_1 (MaxPooling2 (None, 11, 11, 64)        0         \n",
            "_________________________________________________________________\n",
            "conv2d_2 (Conv2D)            (None, 11, 11, 128)       73856     \n",
            "_________________________________________________________________\n",
            "max_pooling2d_2 (MaxPooling2 (None, 5, 5, 128)         0         \n",
            "_________________________________________________________________\n",
            "dropout (Dropout)            (None, 5, 5, 128)         0         \n",
            "_________________________________________________________________\n",
            "flatten (Flatten)            (None, 3200)              0         \n",
            "_________________________________________________________________\n",
            "dense (Dense)                (None, 64)                204864    \n",
            "_________________________________________________________________\n",
            "dense_1 (Dense)              (None, 2)                 130       \n",
            "=================================================================\n",
            "Total params: 298,242\n",
            "Trainable params: 298,242\n",
            "Non-trainable params: 0\n",
            "_________________________________________________________________\n"
          ],
          "name": "stdout"
        }
      ]
    },
    {
      "cell_type": "markdown",
      "metadata": {
        "id": "8TmUl2mJOhBK",
        "colab_type": "text"
      },
      "source": [
        "**COMPILING MODEL**"
      ]
    },
    {
      "cell_type": "code",
      "metadata": {
        "id": "RyWuYqO7pV6E",
        "colab_type": "code",
        "colab": {
          "base_uri": "https://localhost:8080/",
          "height": 697
        },
        "outputId": "922735ed-897e-4a0d-e717-2b9152abca41"
      },
      "source": [
        "model.compile(optimizer='adam',\n",
        "              loss='sparse_categorical_crossentropy',\n",
        "              metrics=['accuracy'])\n",
        "\n",
        "history = model.fit(train_images, train_labels, epochs=20, \n",
        "                    validation_data=(val_images, val_labels))"
      ],
      "execution_count": 17,
      "outputs": [
        {
          "output_type": "stream",
          "text": [
            "Epoch 1/20\n",
            "37/37 [==============================] - 0s 10ms/step - loss: 0.6861 - accuracy: 0.5698 - val_loss: 0.6585 - val_accuracy: 0.6069\n",
            "Epoch 2/20\n",
            "37/37 [==============================] - 0s 4ms/step - loss: 0.5868 - accuracy: 0.6957 - val_loss: 0.4591 - val_accuracy: 0.7931\n",
            "Epoch 3/20\n",
            "37/37 [==============================] - 0s 5ms/step - loss: 0.4607 - accuracy: 0.7957 - val_loss: 0.3817 - val_accuracy: 0.8172\n",
            "Epoch 4/20\n",
            "37/37 [==============================] - 0s 4ms/step - loss: 0.3681 - accuracy: 0.8466 - val_loss: 0.4485 - val_accuracy: 0.7862\n",
            "Epoch 5/20\n",
            "37/37 [==============================] - 0s 4ms/step - loss: 0.3012 - accuracy: 0.8681 - val_loss: 0.2936 - val_accuracy: 0.8862\n",
            "Epoch 6/20\n",
            "37/37 [==============================] - 0s 4ms/step - loss: 0.2604 - accuracy: 0.9000 - val_loss: 0.2634 - val_accuracy: 0.8828\n",
            "Epoch 7/20\n",
            "37/37 [==============================] - 0s 4ms/step - loss: 0.2327 - accuracy: 0.9078 - val_loss: 0.2500 - val_accuracy: 0.9138\n",
            "Epoch 8/20\n",
            "37/37 [==============================] - 0s 4ms/step - loss: 0.2152 - accuracy: 0.9190 - val_loss: 0.2277 - val_accuracy: 0.9241\n",
            "Epoch 9/20\n",
            "37/37 [==============================] - 0s 5ms/step - loss: 0.1731 - accuracy: 0.9431 - val_loss: 0.2107 - val_accuracy: 0.9069\n",
            "Epoch 10/20\n",
            "37/37 [==============================] - 0s 4ms/step - loss: 0.1577 - accuracy: 0.9500 - val_loss: 0.1858 - val_accuracy: 0.9310\n",
            "Epoch 11/20\n",
            "37/37 [==============================] - 0s 5ms/step - loss: 0.1253 - accuracy: 0.9569 - val_loss: 0.1958 - val_accuracy: 0.9138\n",
            "Epoch 12/20\n",
            "37/37 [==============================] - 0s 4ms/step - loss: 0.1165 - accuracy: 0.9586 - val_loss: 0.2560 - val_accuracy: 0.9138\n",
            "Epoch 13/20\n",
            "37/37 [==============================] - 0s 5ms/step - loss: 0.1248 - accuracy: 0.9500 - val_loss: 0.1899 - val_accuracy: 0.9276\n",
            "Epoch 14/20\n",
            "37/37 [==============================] - 0s 4ms/step - loss: 0.0809 - accuracy: 0.9698 - val_loss: 0.1838 - val_accuracy: 0.9310\n",
            "Epoch 15/20\n",
            "37/37 [==============================] - 0s 4ms/step - loss: 0.0807 - accuracy: 0.9672 - val_loss: 0.2277 - val_accuracy: 0.9276\n",
            "Epoch 16/20\n",
            "37/37 [==============================] - 0s 4ms/step - loss: 0.0879 - accuracy: 0.9716 - val_loss: 0.1722 - val_accuracy: 0.9483\n",
            "Epoch 17/20\n",
            "37/37 [==============================] - 0s 4ms/step - loss: 0.0633 - accuracy: 0.9776 - val_loss: 0.1627 - val_accuracy: 0.9310\n",
            "Epoch 18/20\n",
            "37/37 [==============================] - 0s 4ms/step - loss: 0.0917 - accuracy: 0.9690 - val_loss: 0.1854 - val_accuracy: 0.9414\n",
            "Epoch 19/20\n",
            "37/37 [==============================] - 0s 4ms/step - loss: 0.0555 - accuracy: 0.9828 - val_loss: 0.1744 - val_accuracy: 0.9517\n",
            "Epoch 20/20\n",
            "37/37 [==============================] - 0s 4ms/step - loss: 0.0425 - accuracy: 0.9853 - val_loss: 0.1492 - val_accuracy: 0.9552\n"
          ],
          "name": "stdout"
        }
      ]
    },
    {
      "cell_type": "markdown",
      "metadata": {
        "id": "x6fMdfks5zvr",
        "colab_type": "text"
      },
      "source": [
        "**SAVING MODEL**"
      ]
    },
    {
      "cell_type": "code",
      "metadata": {
        "id": "J-bSdFIv5yt_",
        "colab_type": "code",
        "colab": {}
      },
      "source": [
        "model.save('gdrive/My Drive/classification_model/model.h5')"
      ],
      "execution_count": 18,
      "outputs": []
    },
    {
      "cell_type": "markdown",
      "metadata": {
        "id": "1txbNDXOOl2J",
        "colab_type": "text"
      },
      "source": [
        "**PLOTTING HISTORY**"
      ]
    },
    {
      "cell_type": "code",
      "metadata": {
        "id": "IObfMQpvtjRN",
        "colab_type": "code",
        "colab": {}
      },
      "source": [
        "def plot(network_history):\n",
        "    plt.figure()\n",
        "    plt.xlabel('Epochs')\n",
        "    plt.ylabel('Loss')\n",
        "    plt.plot(network_history.history['loss'])\n",
        "    plt.plot(network_history.history['val_loss'])\n",
        "    plt.legend(['Training', 'Validation'])\n",
        "\n",
        "    plt.figure()\n",
        "    plt.xlabel('Epochs')\n",
        "    plt.ylabel('Accuracy')\n",
        "    plt.plot(network_history.history['accuracy'])\n",
        "    plt.plot(network_history.history['val_accuracy'])\n",
        "    plt.legend(['Training', 'Validation'], loc='lower right')"
      ],
      "execution_count": 19,
      "outputs": []
    },
    {
      "cell_type": "code",
      "metadata": {
        "id": "XBQ_hufwvmHj",
        "colab_type": "code",
        "colab": {
          "base_uri": "https://localhost:8080/",
          "height": 542
        },
        "outputId": "8111994a-35af-4d79-d125-cd423bd2f80a"
      },
      "source": [
        "plot (history)"
      ],
      "execution_count": 20,
      "outputs": [
        {
          "output_type": "display_data",
          "data": {
            "image/png": "[encoded data removed]",
            "text/plain": [
              "<Figure size 432x288 with 1 Axes>"
            ]
          },
          "metadata": {
            "tags": [],
            "needs_background": "light"
          }
        },
        {
          "output_type": "display_data",
          "data": {
            "image/png": "[encoded data removed]",
            "text/plain": [
              "<Figure size 432x288 with 1 Axes>"
            ]
          },
          "metadata": {
            "tags": [],
            "needs_background": "light"
          }
        }
      ]
    },
    {
      "cell_type": "markdown",
      "metadata": {
        "id": "A5_4YYhAOp5U",
        "colab_type": "text"
      },
      "source": [
        "**LOADING SAVED MODEL**"
      ]
    },
    {
      "cell_type": "code",
      "metadata": {
        "id": "hEZnwBe7voRo",
        "colab_type": "code",
        "colab": {}
      },
      "source": [
        "model_path = \"gdrive/My Drive/classification_model/model.h5\"\n",
        "model = tf.keras.models.load_model(model_path)"
      ],
      "execution_count": 21,
      "outputs": []
    },
    {
      "cell_type": "markdown",
      "metadata": {
        "id": "PzGEviVWP5zy",
        "colab_type": "text"
      },
      "source": [
        "**PREDICTION ON TEST IMAGES**"
      ]
    },
    {
      "cell_type": "code",
      "metadata": {
        "id": "PGb9l-YOOuos",
        "colab_type": "code",
        "colab": {}
      },
      "source": [
        "def pred (image):\n",
        "  data = []\n",
        "  data.append(image)\n",
        "  X_test = np.array(data)\n",
        "  X_test = X_test.astype('float32')/255 \n",
        "  pred = model.predict_classes(X_test)\n",
        "  return pred[0]  "
      ],
      "execution_count": 22,
      "outputs": []
    },
    {
      "cell_type": "code",
      "metadata": {
        "id": "jD1-JZ7EQIIt",
        "colab_type": "code",
        "colab": {
          "base_uri": "https://localhost:8080/",
          "height": 88
        },
        "outputId": "fbb9e297-4732-4e8a-a45a-07fc9ccedb97"
      },
      "source": [
        "## PREDICTION ON TEST BENIGN\n",
        "\n",
        "filelist = sorted(glob.glob(os.path.join('testbenign', '*.bmp')))\n",
        "t_benign = []\n",
        "for j, imagepath in enumerate(filelist):\n",
        "  img1 = cv2.imread(filelist[j])\n",
        "  img1 = cv2.resize(img1, (44, 44), interpolation=cv2.INTER_LINEAR)\n",
        "  label = pred (np.array (img1))\n",
        "  t_benign.append (label)"
      ],
      "execution_count": 23,
      "outputs": [
        {
          "output_type": "stream",
          "text": [
            "WARNING:tensorflow:From <ipython-input-22-a1e65c01b729>:6: Sequential.predict_classes (from tensorflow.python.keras.engine.sequential) is deprecated and will be removed after 2021-01-01.\n",
            "Instructions for updating:\n",
            "Please use instead:* `np.argmax(model.predict(x), axis=-1)`,   if your model does multi-class classification   (e.g. if it uses a `softmax` last-layer activation).* `(model.predict(x) > 0.5).astype(\"int32\")`,   if your model does binary classification   (e.g. if it uses a `sigmoid` last-layer activation).\n"
          ],
          "name": "stdout"
        }
      ]
    },
    {
      "cell_type": "code",
      "metadata": {
        "id": "8wim3WswQ_z9",
        "colab_type": "code",
        "colab": {
          "base_uri": "https://localhost:8080/",
          "height": 34
        },
        "outputId": "05b8b638-c181-4c81-bcc0-4eb36d0a40d3"
      },
      "source": [
        "print (t_benign)"
      ],
      "execution_count": 24,
      "outputs": [
        {
          "output_type": "stream",
          "text": [
            "[0, 0, 0, 0, 0, 0, 0, 0, 0, 0, 0, 0, 0, 0, 0, 0, 0, 0, 0, 0]\n"
          ],
          "name": "stdout"
        }
      ]
    },
    {
      "cell_type": "code",
      "metadata": {
        "id": "vfWXs1VsRIo5",
        "colab_type": "code",
        "colab": {}
      },
      "source": [
        "## PREDICTION ON TEST MALIGNANT\n",
        "\n",
        "filelist = sorted(glob.glob(os.path.join('testmalign', '*.bmp')))\n",
        "t_malignant = []\n",
        "for j, imagepath in enumerate(filelist):\n",
        "  img1 = cv2.imread(filelist[j])\n",
        "  img1 = cv2.resize(img1, (44, 44), interpolation=cv2.INTER_LINEAR)\n",
        "  label = pred (np.array (img1))\n",
        "  t_malignant.append (label)"
      ],
      "execution_count": 25,
      "outputs": []
    },
    {
      "cell_type": "code",
      "metadata": {
        "id": "Q1oKBXUYRc_6",
        "colab_type": "code",
        "colab": {
          "base_uri": "https://localhost:8080/",
          "height": 34
        },
        "outputId": "2c4bd755-8daf-467f-f4f9-24e6968d35e2"
      },
      "source": [
        "print (t_malignant)"
      ],
      "execution_count": 26,
      "outputs": [
        {
          "output_type": "stream",
          "text": [
            "[1, 1, 1, 1, 1, 1, 1, 1, 1, 1, 1, 1, 1, 1, 1, 1, 1, 1, 1, 1, 1, 1, 1, 1, 1, 1, 1, 1, 1, 1]\n"
          ],
          "name": "stdout"
        }
      ]
    },
    {
      "cell_type": "markdown",
      "metadata": {
        "id": "GOCj5ZATiet9",
        "colab_type": "text"
      },
      "source": [
        "**RED ATTACK**"
      ]
    },
    {
      "cell_type": "markdown",
      "metadata": {
        "id": "hJkr78U2fUDk",
        "colab_type": "text"
      },
      "source": [
        "DIFFERENCE BETWEEN 2 IMAGES"
      ]
    },
    {
      "cell_type": "code",
      "metadata": {
        "id": "kQ0ERb8ZReJy",
        "colab_type": "code",
        "colab": {}
      },
      "source": [
        "def max_diff(img1,img2):\n",
        "    img = img1 - img2\n",
        "    return np.amax(img)"
      ],
      "execution_count": 27,
      "outputs": []
    },
    {
      "cell_type": "markdown",
      "metadata": {
        "id": "h1jldCQefQMX",
        "colab_type": "text"
      },
      "source": [
        "BOUNDARY ESTIMATION"
      ]
    },
    {
      "cell_type": "code",
      "metadata": {
        "id": "VgTZzqZvYU98",
        "colab_type": "code",
        "colab": {}
      },
      "source": [
        "def boundary_estimation(source, target, dmin):\n",
        "    Ii = ((source + target)/2.0)\n",
        "    k = pred(Ii)\n",
        "    delta = max_diff(source, Ii)\n",
        "    Ia2 = source\n",
        "    Ib2 = target\n",
        "    p = Ib2\n",
        "    while (delta > dmin):\n",
        "        if (pred(Ia2) != k):\n",
        "            Ib2 = Ii\n",
        "        else:\n",
        "            Ia2 = Ii\n",
        "        Ii = ((Ia2+Ib2)/2.0)\n",
        "        k = pred(Ii)\n",
        "        delta = max_diff(Ia2,Ii)  \n",
        "    return Ii"
      ],
      "execution_count": 28,
      "outputs": []
    },
    {
      "cell_type": "code",
      "metadata": {
        "id": "JJRiqg2_YVs5",
        "colab_type": "code",
        "colab": {}
      },
      "source": [
        "img = cv2.imread ('testbenign/us100.bmp')\n",
        "source_img = np.array (cv2.resize (img,(44,44), interpolation=cv2.INTER_LINEAR))\n",
        "\n",
        "img = cv2.imread ('testmalign/us105.bmp')\n",
        "target_img = np.array (cv2.resize (img,(44,44), interpolation=cv2.INTER_LINEAR))  "
      ],
      "execution_count": 29,
      "outputs": []
    },
    {
      "cell_type": "code",
      "metadata": {
        "id": "e6Okm5_zdiEm",
        "colab_type": "code",
        "colab": {
          "base_uri": "https://localhost:8080/",
          "height": 68
        },
        "outputId": "b2b0e259-60e6-4cd8-da8c-f4cbb08d076b"
      },
      "source": [
        "print (\"source image class: \",pred (source_img))\n",
        "print (\"target image class: \",pred (target_img))\n",
        "adv_img = boundary_estimation (source_img,target_img, 1.0)\n",
        "print (\"adversarial image class: \",pred(adv_img))\n"
      ],
      "execution_count": 30,
      "outputs": [
        {
          "output_type": "stream",
          "text": [
            "source image class:  0\n",
            "target image class:  1\n",
            "adversarial image class:  1\n"
          ],
          "name": "stdout"
        }
      ]
    },
    {
      "cell_type": "markdown",
      "metadata": {
        "id": "sVKLEagGfY0e",
        "colab_type": "text"
      },
      "source": [
        "GO OUT FUNCTION"
      ]
    },
    {
      "cell_type": "code",
      "metadata": {
        "id": "Wb2UGK5wdnk2",
        "colab_type": "code",
        "colab": {}
      },
      "source": [
        "def go_out(source,iout,alpha):\n",
        "    i_diff = iout - source\n",
        "    pred_source = pred(source)\n",
        "    inew = iout\n",
        "    while (pred(inew)==pred(source)):\n",
        "        inew = inew + alpha*(i_diff)\n",
        "        \n",
        "    return inew"
      ],
      "execution_count": 31,
      "outputs": []
    },
    {
      "cell_type": "code",
      "metadata": {
        "id": "esGP6MFQfjXb",
        "colab_type": "code",
        "colab": {
          "base_uri": "https://localhost:8080/",
          "height": 34
        },
        "outputId": "bf8d673d-6d33-44ef-ba3b-3b2f0dbd4fa5"
      },
      "source": [
        "out_img = go_out (source_img, adv_img, 0.01)\n",
        "print (\"out image class: \",pred (out_img))"
      ],
      "execution_count": 32,
      "outputs": [
        {
          "output_type": "stream",
          "text": [
            "out image class:  1\n"
          ],
          "name": "stdout"
        }
      ]
    },
    {
      "cell_type": "code",
      "metadata": {
        "id": "eP5nxWJyf5Xz",
        "colab_type": "code",
        "colab": {}
      },
      "source": [
        "from PIL import Image\n",
        "\n",
        "Image.fromarray(source_img.astype('uint8')).save ('source_image.png')\n",
        "Image.fromarray(target_img.astype('uint8')).save ('target_image.png')\n",
        "Image.fromarray(adv_img.astype('uint8')).save ('adv_image.png')\n",
        "Image.fromarray(out_img.astype('uint8')).save ('out_image.png')"
      ],
      "execution_count": 35,
      "outputs": []
    },
    {
      "cell_type": "code",
      "metadata": {
        "id": "r-U0rmTHiEBs",
        "colab_type": "code",
        "colab": {
          "base_uri": "https://localhost:8080/",
          "height": 868
        },
        "outputId": "04fb08c5-d170-4467-cbc1-e621c08f4404"
      },
      "source": [
        "from IPython.display import Image,display\n",
        "\n",
        "display(Image(\"source_image.png\", width=200, height=200))\n",
        "print()\n",
        "display(Image(\"target_image.png\", width=200, height=200))\n",
        "print ()\n",
        "display(Image(\"adv_image.png\", width=200, height=200))\n",
        "print ()\n",
        "display(Image(\"out_image.png\", width=200, height=200))"
      ],
      "execution_count": 36,
      "outputs": [
        {
          "output_type": "display_data",
          "data": {
            "image/png": "[encoded data removed]",
            "text/plain": [
              "<IPython.core.display.Image object>"
            ]
          },
          "metadata": {
            "tags": [],
            "image/png": {
              "width": 200,
              "height": 200
            }
          }
        },
        {
          "output_type": "stream",
          "text": [
            "\n"
          ],
          "name": "stdout"
        },
        {
          "output_type": "display_data",
          "data": {
            "image/png": "[encoded data removed]",
            "text/plain": [
              "<IPython.core.display.Image object>"
            ]
          },
          "metadata": {
            "tags": [],
            "image/png": {
              "width": 200,
              "height": 200
            }
          }
        },
        {
          "output_type": "stream",
          "text": [
            "\n"
          ],
          "name": "stdout"
        },
        {
          "output_type": "display_data",
          "data": {
            "image/png": "[encoded data removed]",
            "text/plain": [
              "<IPython.core.display.Image object>"
            ]
          },
          "metadata": {
            "tags": [],
            "image/png": {
              "width": 200,
              "height": 200
            }
          }
        },
        {
          "output_type": "stream",
          "text": [
            "\n"
          ],
          "name": "stdout"
        },
        {
          "output_type": "display_data",
          "data": {
            "image/png": "[encoded data removed]",
            "text/plain": [
              "<IPython.core.display.Image object>"
            ]
          },
          "metadata": {
            "tags": [],
            "image/png": {
              "width": 200,
              "height": 200
            }
          }
        }
      ]
    },
    {
      "cell_type": "markdown",
      "metadata": {
        "id": "56-W_2s4zVH4",
        "colab_type": "text"
      },
      "source": [
        "GRADIENT ESTIMATION"
      ]
    },
    {
      "cell_type": "code",
      "metadata": {
        "id": "PmtDHnLvkdLj",
        "colab_type": "code",
        "colab": {}
      },
      "source": [
        "def array_diff(d1):\n",
        "    sumd1 = 0.0\n",
        "    for i in range(0,3):\n",
        "        for j in range(0,44):\n",
        "            for k in range(0,44):\n",
        "                d1[j][k][i] = d1[j][k][i]*d1[j][k][i]\n",
        "                sumd1 = sumd1 + d1[j][k][i]\n",
        "    return (sumd1)\n",
        "\n",
        "def gradient_estimation(source, target, adversarial, n, theta):\n",
        "    Ia = source\n",
        "    Ib = target\n",
        "    Ii = adversarial\n",
        "    Io = np.zeros((5808))\n",
        "    X = np.random.randint(0,5808, size=n)\n",
        "    for i in X:\n",
        "        Io[i] = 255\n",
        "    Io = Io.reshape((44,44,3))\n",
        "#     print(Io*theta)\n",
        "    Ii2 = Ii + theta*Io\n",
        "    Ii2_new = boundary_estimation(Ia, Ii2, 1.0)\n",
        "    Ii2_new = go_out(source,Ii2_new,0.01)\n",
        "    diff2 = Ii2_new - Ia\n",
        "    diff1 = Ii - Ia\n",
        "    d2 = array_diff(diff2)\n",
        "    d1 = array_diff(diff1)\n",
        "    if (d2 > d1):\n",
        "        return (-1, Ii2_new)\n",
        "    elif (d1 > d2):\n",
        "        return (1, Ii2_new)\n",
        "    else:\n",
        "        return (0,Ii2_new)"
      ],
      "execution_count": 37,
      "outputs": []
    },
    {
      "cell_type": "markdown",
      "metadata": {
        "id": "-gLWrmy9zce7",
        "colab_type": "text"
      },
      "source": [
        "EFFICIENT UPDATE"
      ]
    },
    {
      "cell_type": "code",
      "metadata": {
        "id": "v3GLBU3nzYNO",
        "colab_type": "code",
        "colab": {}
      },
      "source": [
        "def efficient_update(source, target, adversarial, I2, g, j):\n",
        "    Ia = source\n",
        "    Ib = target\n",
        "    Ii = adversarial\n",
        "    Ii2 = I2\n",
        "    delta = g*(Ii2 - Ii)\n",
        "    l = j\n",
        "    Inew = Ii + l*delta\n",
        "    \n",
        "    diff1 = Inew - Ia\n",
        "    diff2 = Ii - Ia\n",
        "    d1 = array_diff(diff1)\n",
        "    d2 = array_diff(diff2)\n",
        "    ii = 0\n",
        "    it = 0\n",
        "    while(d1 > d2):\n",
        "        l = (l/2.0)\n",
        "        Inew = Ii + l*delta\n",
        "        if(pred(Inew)==pred(source)):\n",
        "            Inew = go_out(source,Inew,0.01)\n",
        "        it = it + 1\n",
        "        d1 = array_diff(Inew-Ia)\n",
        "        if(it>100):\n",
        "            break\n",
        "    if (d1 > d2):\n",
        "        print(ii)\n",
        "        ii = ii + 1\n",
        "        Inew = Ii\n",
        "    return Inew"
      ],
      "execution_count": 38,
      "outputs": []
    },
    {
      "cell_type": "markdown",
      "metadata": {
        "id": "IKQbltaCziBx",
        "colab_type": "text"
      },
      "source": [
        "ITERATION OVER THE IMAGE"
      ]
    },
    {
      "cell_type": "code",
      "metadata": {
        "id": "W4IVkpduzfYS",
        "colab_type": "code",
        "colab": {}
      },
      "source": [
        "def iteration(itr, source, target, n, theta, j, dmin):\n",
        "    targett = target\n",
        "    sourcee = source\n",
        "    for i in range(itr):\n",
        "        #print (i)\n",
        "        adversarial_image = boundary_estimation(sourcee, targett, dmin)\n",
        "        adversarial_image = go_out(sourcee,adversarial_image,0.01)\n",
        "        (g, Iii2) = gradient_estimation(sourcee, targett, targett, n, theta)\n",
        "        targett = efficient_update(sourcee, targett, adversarial_image, Iii2, g, j)\n",
        "        if (pred(targett) == pred(source)):\n",
        "            j = j/2.0\n",
        "        fin = targett\n",
        "        if(pred(targett)==pred(sourcee)):\n",
        "            fin = go_out(sourcee,targett,0.01)\n",
        "        if(array_diff(fin-sourcee)<array_diff(adversarial_image-sourcee)):\n",
        "            targett = fin\n",
        "            #print(\"uopp\")\n",
        "    \n",
        "    return fin"
      ],
      "execution_count": 39,
      "outputs": []
    },
    {
      "cell_type": "code",
      "metadata": {
        "id": "mGDB09SDzpv1",
        "colab_type": "code",
        "colab": {}
      },
      "source": [
        "perturbed_img = iteration(10,source_img,out_img,5,0.196,5.0,1.0)"
      ],
      "execution_count": 45,
      "outputs": []
    },
    {
      "cell_type": "code",
      "metadata": {
        "id": "mWSdaIHhzx-n",
        "colab_type": "code",
        "colab": {
          "base_uri": "https://localhost:8080/",
          "height": 34
        },
        "outputId": "71e89407-39fe-4b17-9d41-a6aed3638f6c"
      },
      "source": [
        "print (\"Perturbed image class: \", pred (perturbed_img))"
      ],
      "execution_count": 46,
      "outputs": [
        {
          "output_type": "stream",
          "text": [
            "Perturbed image class:  1\n"
          ],
          "name": "stdout"
        }
      ]
    },
    {
      "cell_type": "code",
      "metadata": {
        "id": "3KbD7lqG0S5L",
        "colab_type": "code",
        "colab": {}
      },
      "source": [
        "from PIL import Image\n",
        "Image.fromarray(perturbed_img.astype('uint8')).save ('perturbed_image.png')"
      ],
      "execution_count": 47,
      "outputs": []
    },
    {
      "cell_type": "code",
      "metadata": {
        "id": "Sal0M_KB03ID",
        "colab_type": "code",
        "colab": {
          "base_uri": "https://localhost:8080/",
          "height": 434
        },
        "outputId": "7d29a692-e950-4cbf-a039-941b6665edd1"
      },
      "source": [
        "from IPython.display import Image,display\n",
        "display(Image(\"source_image.png\", width=200, height=200))\n",
        "print()\n",
        "display(Image(\"perturbed_image.png\", width=200, height=200))"
      ],
      "execution_count": 48,
      "outputs": [
        {
          "output_type": "display_data",
          "data": {
            "image/png": "[encoded data removed]",
            "text/plain": [
              "<IPython.core.display.Image object>"
            ]
          },
          "metadata": {
            "tags": [],
            "image/png": {
              "width": 200,
              "height": 200
            }
          }
        },
        {
          "output_type": "stream",
          "text": [
            "\n"
          ],
          "name": "stdout"
        },
        {
          "output_type": "display_data",
          "data": {
            "image/png": "[encoded data removed]",
            "text/plain": [
              "<IPython.core.display.Image object>"
            ]
          },
          "metadata": {
            "tags": [],
            "image/png": {
              "width": 200,
              "height": 200
            }
          }
        }
      ]
    },
    {
      "cell_type": "code",
      "metadata": {
        "id": "gM3wq03G08Qs",
        "colab_type": "code",
        "colab": {
          "base_uri": "https://localhost:8080/",
          "height": 88
        },
        "outputId": "17b567fe-4ddf-42f7-8001-89bedc837f9d"
      },
      "source": [
        "original = cv2.imread(\"source_image.png\")\n",
        "perturb = cv2.imread(\"perturbed_image.png\")\n",
        "from skimage import measure\n",
        "s = measure.compare_ssim(original,perturb,multichannel=True)\n",
        "print(s)"
      ],
      "execution_count": 49,
      "outputs": [
        {
          "output_type": "stream",
          "text": [
            "0.8061494514870094\n"
          ],
          "name": "stdout"
        },
        {
          "output_type": "stream",
          "text": [
            "/usr/local/lib/python3.6/dist-packages/ipykernel_launcher.py:4: UserWarning: DEPRECATED: skimage.measure.compare_ssim has been moved to skimage.metrics.structural_similarity. It will be removed from skimage.measure in version 0.18.\n",
            "  after removing the cwd from sys.path.\n"
          ],
          "name": "stderr"
        }
      ]
    },
    {
      "cell_type": "code",
      "metadata": {
        "id": "jkqkVjPG1NbC",
        "colab_type": "code",
        "colab": {}
      },
      "source": [
        ""
      ],
      "execution_count": null,
      "outputs": []
    }
  ]
}