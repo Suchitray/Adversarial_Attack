{
  "nbformat": 4,
  "nbformat_minor": 0,
  "metadata": {
    "colab": {
      "name": "Red_Attack",
      "provenance": [],
      "collapsed_sections": []
    },
    "kernelspec": {
      "name": "python3",
      "display_name": "Python 3"
    },
    "accelerator": "GPU"
  },
  "cells": [
    {
      "cell_type": "markdown",
      "metadata": {
        "id": "FXcpax_AM6MD",
        "colab_type": "text"
      },
      "source": [
        "**IMPORTING LIBRARIES**"
      ]
    },
    {
      "cell_type": "code",
      "metadata": {
        "id": "0W7bINGjM4g5",
        "colab_type": "code",
        "colab": {
          "base_uri": "https://localhost:8080/",
          "height": 153
        },
        "outputId": "b429806d-22ce-4898-fd86-19cb9f6c60bb"
      },
      "source": [
        "!pip install Augmentor\n",
        "import Augmentor \n",
        "import os, glob\n",
        "import cv2\n",
        "import numpy as np\n",
        "from sklearn.model_selection import train_test_split\n",
        "from keras.models import Sequential\n",
        "from keras.layers import Dense, Dropout, Activation, Flatten\n",
        "from keras.layers import Convolution2D, MaxPooling2D\n",
        "import tensorflow as tf\n",
        "import matplotlib.pyplot as plt\n"
      ],
      "execution_count": null,
      "outputs": [
        {
          "output_type": "stream",
          "text": [
            "Collecting Augmentor\n",
            "  Downloading https://files.pythonhosted.org/packages/cb/79/861f38d5830cff631e30e33b127076bfef8ac98171e51daa06df0118c75f/Augmentor-0.2.8-py2.py3-none-any.whl\n",
            "Requirement already satisfied: future>=0.16.0 in /usr/local/lib/python3.6/dist-packages (from Augmentor) (0.16.0)\n",
            "Requirement already satisfied: numpy>=1.11.0 in /usr/local/lib/python3.6/dist-packages (from Augmentor) (1.18.5)\n",
            "Requirement already satisfied: tqdm>=4.9.0 in /usr/local/lib/python3.6/dist-packages (from Augmentor) (4.41.1)\n",
            "Requirement already satisfied: Pillow>=5.2.0 in /usr/local/lib/python3.6/dist-packages (from Augmentor) (7.0.0)\n",
            "Installing collected packages: Augmentor\n",
            "Successfully installed Augmentor-0.2.8\n"
          ],
          "name": "stdout"
        }
      ]
    },
    {
      "cell_type": "markdown",
      "metadata": {
        "id": "RQTr22-6DU3L",
        "colab_type": "text"
      },
      "source": [
        "**MOUNTING DRIVE**"
      ]
    },
    {
      "cell_type": "code",
      "metadata": {
        "id": "yQUp50QDx1rq",
        "colab_type": "code",
        "colab": {
          "base_uri": "https://localhost:8080/",
          "height": 34
        },
        "outputId": "1e0f6ef0-e9fc-46db-f84b-5e56f138498b"
      },
      "source": [
        "from google.colab import drive\n",
        "drive.mount('/content/gdrive')"
      ],
      "execution_count": null,
      "outputs": [
        {
          "output_type": "stream",
          "text": [
            "Mounted at /content/gdrive\n"
          ],
          "name": "stdout"
        }
      ]
    },
    {
      "cell_type": "code",
      "metadata": {
        "id": "yb5rkN4N-rqx",
        "colab_type": "code",
        "colab": {}
      },
      "source": [
        "def unzipping_dataset():\n",
        "  !unzip 'gdrive/My Drive/dataset/trainingbenign.zip'\n",
        "  !unzip 'gdrive/My Drive/dataset/trainingmalign.zip'\n",
        "  !unzip 'gdrive/My Drive/dataset/testbenign.zip'\n",
        "  !unzip 'gdrive/My Drive/dataset/testmalign.zip'"
      ],
      "execution_count": null,
      "outputs": []
    },
    {
      "cell_type": "markdown",
      "metadata": {
        "id": "0W1Wft3GDHTJ",
        "colab_type": "text"
      },
      "source": [
        "**UNZIPPING DATASET** "
      ]
    },
    {
      "cell_type": "code",
      "metadata": {
        "id": "Wt15f9Dy-_Ij",
        "colab_type": "code",
        "colab": {
          "base_uri": "https://localhost:8080/",
          "height": 1000
        },
        "outputId": "58a9ba6e-10ff-4903-83e2-7577f70bde8a"
      },
      "source": [
        "unzipping_dataset()"
      ],
      "execution_count": null,
      "outputs": [
        {
          "output_type": "stream",
          "text": [
            "Archive:  gdrive/My Drive/dataset/trainingbenign.zip\n",
            "  inflating: trainingbenign/us1.bmp  \n",
            "  inflating: trainingbenign/us11.bmp  \n",
            "  inflating: trainingbenign/us12.bmp  \n",
            "  inflating: trainingbenign/us13.bmp  \n",
            "  inflating: trainingbenign/us14.bmp  \n",
            "  inflating: trainingbenign/us16.bmp  \n",
            "  inflating: trainingbenign/us17.bmp  \n",
            "  inflating: trainingbenign/us18.bmp  \n",
            "  inflating: trainingbenign/us19.bmp  \n",
            "  inflating: trainingbenign/us2.bmp  \n",
            "  inflating: trainingbenign/us21.bmp  \n",
            "  inflating: trainingbenign/us22.bmp  \n",
            "  inflating: trainingbenign/us23.bmp  \n",
            "  inflating: trainingbenign/us24.bmp  \n",
            "  inflating: trainingbenign/us26.bmp  \n",
            "  inflating: trainingbenign/us27.bmp  \n",
            "  inflating: trainingbenign/us28.bmp  \n",
            "  inflating: trainingbenign/us29.bmp  \n",
            "  inflating: trainingbenign/us3.bmp  \n",
            "  inflating: trainingbenign/us31.bmp  \n",
            "  inflating: trainingbenign/us32.bmp  \n",
            "  inflating: trainingbenign/us33.bmp  \n",
            "  inflating: trainingbenign/us34.bmp  \n",
            "  inflating: trainingbenign/us36.bmp  \n",
            "  inflating: trainingbenign/us37.bmp  \n",
            "  inflating: trainingbenign/us38.bmp  \n",
            "  inflating: trainingbenign/us39.bmp  \n",
            "  inflating: trainingbenign/us4.bmp  \n",
            "  inflating: trainingbenign/us41.bmp  \n",
            "  inflating: trainingbenign/us42.bmp  \n",
            "  inflating: trainingbenign/us43.bmp  \n",
            "  inflating: trainingbenign/us44.bmp  \n",
            "  inflating: trainingbenign/us46.bmp  \n",
            "  inflating: trainingbenign/us47.bmp  \n",
            "  inflating: trainingbenign/us48.bmp  \n",
            "  inflating: trainingbenign/us49.bmp  \n",
            "  inflating: trainingbenign/us51.bmp  \n",
            "  inflating: trainingbenign/us52.bmp  \n",
            "  inflating: trainingbenign/us53.bmp  \n",
            "  inflating: trainingbenign/us54.bmp  \n",
            "  inflating: trainingbenign/us56.bmp  \n",
            "  inflating: trainingbenign/us57.bmp  \n",
            "  inflating: trainingbenign/us58.bmp  \n",
            "  inflating: trainingbenign/us59.bmp  \n",
            "  inflating: trainingbenign/us6.bmp  \n",
            "  inflating: trainingbenign/us61.bmp  \n",
            "  inflating: trainingbenign/us62.bmp  \n",
            "  inflating: trainingbenign/us63.bmp  \n",
            "  inflating: trainingbenign/us64.bmp  \n",
            "  inflating: trainingbenign/us66.bmp  \n",
            "  inflating: trainingbenign/us67.bmp  \n",
            "  inflating: trainingbenign/us68.bmp  \n",
            "  inflating: trainingbenign/us69.bmp  \n",
            "  inflating: trainingbenign/us7.bmp  \n",
            "  inflating: trainingbenign/us71.bmp  \n",
            "  inflating: trainingbenign/us72.bmp  \n",
            "  inflating: trainingbenign/us73.bmp  \n",
            "  inflating: trainingbenign/us74.bmp  \n",
            "  inflating: trainingbenign/us76.bmp  \n",
            "  inflating: trainingbenign/us77.bmp  \n",
            "  inflating: trainingbenign/us78.bmp  \n",
            "  inflating: trainingbenign/us79.bmp  \n",
            "  inflating: trainingbenign/us8.bmp  \n",
            "  inflating: trainingbenign/us81.bmp  \n",
            "  inflating: trainingbenign/us82.bmp  \n",
            "  inflating: trainingbenign/us83.bmp  \n",
            "  inflating: trainingbenign/us84.bmp  \n",
            "  inflating: trainingbenign/us86.bmp  \n",
            "  inflating: trainingbenign/us87.bmp  \n",
            "  inflating: trainingbenign/us88.bmp  \n",
            "  inflating: trainingbenign/us89.bmp  \n",
            "  inflating: trainingbenign/us9.bmp  \n",
            "  inflating: trainingbenign/us91.bmp  \n",
            "  inflating: trainingbenign/us92.bmp  \n",
            "  inflating: trainingbenign/us93.bmp  \n",
            "  inflating: trainingbenign/us94.bmp  \n",
            "  inflating: trainingbenign/us96.bmp  \n",
            "  inflating: trainingbenign/us97.bmp  \n",
            "  inflating: trainingbenign/us98.bmp  \n",
            "  inflating: trainingbenign/us99.bmp  \n",
            "Archive:  gdrive/My Drive/dataset/trainingmalign.zip\n",
            "  inflating: trainingmalign/us101.bmp  \n",
            "  inflating: trainingmalign/us102.bmp  \n",
            "  inflating: trainingmalign/us103.bmp  \n",
            "  inflating: trainingmalign/us104.bmp  \n",
            "  inflating: trainingmalign/us106.bmp  \n",
            "  inflating: trainingmalign/us107.bmp  \n",
            "  inflating: trainingmalign/us108.bmp  \n",
            "  inflating: trainingmalign/us109.bmp  \n",
            "  inflating: trainingmalign/us111.bmp  \n",
            "  inflating: trainingmalign/us112.bmp  \n",
            "  inflating: trainingmalign/us113.bmp  \n",
            "  inflating: trainingmalign/us114.bmp  \n",
            "  inflating: trainingmalign/us116.bmp  \n",
            "  inflating: trainingmalign/us117.bmp  \n",
            "  inflating: trainingmalign/us118.bmp  \n",
            "  inflating: trainingmalign/us119.bmp  \n",
            "  inflating: trainingmalign/us121.bmp  \n",
            "  inflating: trainingmalign/us122.bmp  \n",
            "  inflating: trainingmalign/us123.bmp  \n",
            "  inflating: trainingmalign/us124.bmp  \n",
            "  inflating: trainingmalign/us126.bmp  \n",
            "  inflating: trainingmalign/us127.bmp  \n",
            "  inflating: trainingmalign/us128.bmp  \n",
            "  inflating: trainingmalign/us129.bmp  \n",
            "  inflating: trainingmalign/us131.bmp  \n",
            "  inflating: trainingmalign/us132.bmp  \n",
            "  inflating: trainingmalign/us133.bmp  \n",
            "  inflating: trainingmalign/us134.bmp  \n",
            "  inflating: trainingmalign/us136.bmp  \n",
            "  inflating: trainingmalign/us137.bmp  \n",
            "  inflating: trainingmalign/us138.bmp  \n",
            "  inflating: trainingmalign/us139.bmp  \n",
            "  inflating: trainingmalign/us141.bmp  \n",
            "  inflating: trainingmalign/us142.bmp  \n",
            "  inflating: trainingmalign/us143.bmp  \n",
            "  inflating: trainingmalign/us144.bmp  \n",
            "  inflating: trainingmalign/us146.bmp  \n",
            "  inflating: trainingmalign/us147.bmp  \n",
            "  inflating: trainingmalign/us148.bmp  \n",
            "  inflating: trainingmalign/us149.bmp  \n",
            "  inflating: trainingmalign/us151.bmp  \n",
            "  inflating: trainingmalign/us152.bmp  \n",
            "  inflating: trainingmalign/us153.bmp  \n",
            "  inflating: trainingmalign/us154.bmp  \n",
            "  inflating: trainingmalign/us156.bmp  \n",
            "  inflating: trainingmalign/us157.bmp  \n",
            "  inflating: trainingmalign/us158.bmp  \n",
            "  inflating: trainingmalign/us159.bmp  \n",
            "  inflating: trainingmalign/us161.bmp  \n",
            "  inflating: trainingmalign/us162.bmp  \n",
            "  inflating: trainingmalign/us163.bmp  \n",
            "  inflating: trainingmalign/us164.bmp  \n",
            "  inflating: trainingmalign/us166.bmp  \n",
            "  inflating: trainingmalign/us167.bmp  \n",
            "  inflating: trainingmalign/us168.bmp  \n",
            "  inflating: trainingmalign/us169.bmp  \n",
            "  inflating: trainingmalign/us171.bmp  \n",
            "  inflating: trainingmalign/us172.bmp  \n",
            "  inflating: trainingmalign/us173.bmp  \n",
            "  inflating: trainingmalign/us174.bmp  \n",
            "  inflating: trainingmalign/us176.bmp  \n",
            "  inflating: trainingmalign/us177.bmp  \n",
            "  inflating: trainingmalign/us178.bmp  \n",
            "  inflating: trainingmalign/us179.bmp  \n",
            "  inflating: trainingmalign/us181.bmp  \n",
            "  inflating: trainingmalign/us182.bmp  \n",
            "  inflating: trainingmalign/us183.bmp  \n",
            "  inflating: trainingmalign/us184.bmp  \n",
            "  inflating: trainingmalign/us186.bmp  \n",
            "  inflating: trainingmalign/us187.bmp  \n",
            "  inflating: trainingmalign/us188.bmp  \n",
            "  inflating: trainingmalign/us189.bmp  \n",
            "  inflating: trainingmalign/us191.bmp  \n",
            "  inflating: trainingmalign/us192.bmp  \n",
            "  inflating: trainingmalign/us193.bmp  \n",
            "  inflating: trainingmalign/us194.bmp  \n",
            "  inflating: trainingmalign/us196.bmp  \n",
            "  inflating: trainingmalign/us197.bmp  \n",
            "  inflating: trainingmalign/us198.bmp  \n",
            "  inflating: trainingmalign/us199.bmp  \n",
            "  inflating: trainingmalign/us201.bmp  \n",
            "  inflating: trainingmalign/us202.bmp  \n",
            "  inflating: trainingmalign/us203.bmp  \n",
            "  inflating: trainingmalign/us204.bmp  \n",
            "  inflating: trainingmalign/us206.bmp  \n",
            "  inflating: trainingmalign/us207.bmp  \n",
            "  inflating: trainingmalign/us208.bmp  \n",
            "  inflating: trainingmalign/us209.bmp  \n",
            "  inflating: trainingmalign/us211.bmp  \n",
            "  inflating: trainingmalign/us212.bmp  \n",
            "  inflating: trainingmalign/us213.bmp  \n",
            "  inflating: trainingmalign/us214.bmp  \n",
            "  inflating: trainingmalign/us216.bmp  \n",
            "  inflating: trainingmalign/us217.bmp  \n",
            "  inflating: trainingmalign/us218.bmp  \n",
            "  inflating: trainingmalign/us219.bmp  \n",
            "  inflating: trainingmalign/us221.bmp  \n",
            "  inflating: trainingmalign/us222.bmp  \n",
            "  inflating: trainingmalign/us223.bmp  \n",
            "  inflating: trainingmalign/us224.bmp  \n",
            "  inflating: trainingmalign/us226.bmp  \n",
            "  inflating: trainingmalign/us227.bmp  \n",
            "  inflating: trainingmalign/us228.bmp  \n",
            "  inflating: trainingmalign/us229.bmp  \n",
            "  inflating: trainingmalign/us231.bmp  \n",
            "  inflating: trainingmalign/us232.bmp  \n",
            "  inflating: trainingmalign/us233.bmp  \n",
            "  inflating: trainingmalign/us234.bmp  \n",
            "  inflating: trainingmalign/us236.bmp  \n",
            "  inflating: trainingmalign/us237.bmp  \n",
            "  inflating: trainingmalign/us238.bmp  \n",
            "  inflating: trainingmalign/us239.bmp  \n",
            "  inflating: trainingmalign/us241.bmp  \n",
            "  inflating: trainingmalign/us242.bmp  \n",
            "  inflating: trainingmalign/us243.bmp  \n",
            "  inflating: trainingmalign/us244.bmp  \n",
            "  inflating: trainingmalign/us246.bmp  \n",
            "  inflating: trainingmalign/us247.bmp  \n",
            "  inflating: trainingmalign/us248.bmp  \n",
            "  inflating: trainingmalign/us249.bmp  \n",
            "Archive:  gdrive/My Drive/dataset/testbenign.zip\n",
            "  inflating: testbenign/us10.bmp     \n",
            "  inflating: testbenign/us100.bmp    \n",
            "  inflating: testbenign/us15.bmp     \n",
            "  inflating: testbenign/us20.bmp     \n",
            "  inflating: testbenign/us25.bmp     \n",
            "  inflating: testbenign/us30.bmp     \n",
            "  inflating: testbenign/us35.bmp     \n",
            "  inflating: testbenign/us40.bmp     \n",
            "  inflating: testbenign/us45.bmp     \n",
            "  inflating: testbenign/us5.bmp      \n",
            "  inflating: testbenign/us50.bmp     \n",
            "  inflating: testbenign/us55.bmp     \n",
            "  inflating: testbenign/us60.bmp     \n",
            "  inflating: testbenign/us65.bmp     \n",
            "  inflating: testbenign/us70.bmp     \n",
            "  inflating: testbenign/us75.bmp     \n",
            "  inflating: testbenign/us80.bmp     \n",
            "  inflating: testbenign/us85.bmp     \n",
            "  inflating: testbenign/us90.bmp     \n",
            "  inflating: testbenign/us95.bmp     \n",
            "Archive:  gdrive/My Drive/dataset/testmalign.zip\n",
            "  inflating: testmalign/us105.bmp    \n",
            "  inflating: testmalign/us110.bmp    \n",
            "  inflating: testmalign/us115.bmp    \n",
            "  inflating: testmalign/us120.bmp    \n",
            "  inflating: testmalign/us125.bmp    \n",
            "  inflating: testmalign/us130.bmp    \n",
            "  inflating: testmalign/us135.bmp    \n",
            "  inflating: testmalign/us140.bmp    \n",
            "  inflating: testmalign/us145.bmp    \n",
            "  inflating: testmalign/us150.bmp    \n",
            "  inflating: testmalign/us155.bmp    \n",
            "  inflating: testmalign/us160.bmp    \n",
            "  inflating: testmalign/us165.bmp    \n",
            "  inflating: testmalign/us170.bmp    \n",
            "  inflating: testmalign/us175.bmp    \n",
            "  inflating: testmalign/us180.bmp    \n",
            "  inflating: testmalign/us185.bmp    \n",
            "  inflating: testmalign/us190.bmp    \n",
            "  inflating: testmalign/us195.bmp    \n",
            "  inflating: testmalign/us200.bmp    \n",
            "  inflating: testmalign/us205.bmp    \n",
            "  inflating: testmalign/us210.bmp    \n",
            "  inflating: testmalign/us215.bmp    \n",
            "  inflating: testmalign/us220.bmp    \n",
            "  inflating: testmalign/us225.bmp    \n",
            "  inflating: testmalign/us230.bmp    \n",
            "  inflating: testmalign/us235.bmp    \n",
            "  inflating: testmalign/us240.bmp    \n",
            "  inflating: testmalign/us245.bmp    \n",
            "  inflating: testmalign/us250.bmp    \n"
          ],
          "name": "stdout"
        }
      ]
    },
    {
      "cell_type": "markdown",
      "metadata": {
        "id": "I64tluOADc_5",
        "colab_type": "text"
      },
      "source": [
        "**DATA** **AUGMENTATION**"
      ]
    },
    {
      "cell_type": "code",
      "metadata": {
        "id": "fy-G1tfg_Em9",
        "colab_type": "code",
        "colab": {}
      },
      "source": [
        "# By default these will be written to the disk in a directory named \n",
        "# output relative to the path specified when initialising the p pipeline object above.\n",
        "\n",
        "def augmenting_benign(path):\n",
        "  p = Augmentor.Pipeline(path) \n",
        "  p.flip_left_right(0.5) \n",
        "  #p.black_and_white(0.1) \n",
        "  p.rotate(0.3, 10, 10) \n",
        "  p.skew(0.4, 0.5) \n",
        "  p.zoom(probability = 0.2, min_factor = 1.1, max_factor = 1.5) \n",
        "  p.sample(500) \n",
        "\n",
        "def augmenting_malignant(path):\n",
        "  p = Augmentor.Pipeline(path) \n",
        "  p.flip_left_right(0.5) \n",
        "  #p.black_and_white(0.1) \n",
        "  p.rotate(0.3, 10, 10) \n",
        "  p.skew(0.4, 0.5) \n",
        "  p.zoom(probability = 0.2, min_factor = 1.1, max_factor = 1.5) \n",
        "  p.sample(750) "
      ],
      "execution_count": null,
      "outputs": []
    },
    {
      "cell_type": "code",
      "metadata": {
        "id": "rgVjiNg9Dd2k",
        "colab_type": "code",
        "colab": {
          "base_uri": "https://localhost:8080/",
          "height": 105
        },
        "outputId": "6a257c31-e7db-451a-a6d7-4a73d1f5387f"
      },
      "source": [
        "augmenting_benign ('trainingbenign')\n",
        "augmenting_malignant ('trainingmalign')"
      ],
      "execution_count": null,
      "outputs": [
        {
          "output_type": "stream",
          "text": [
            "Processing <PIL.Image.Image image mode=L size=143x75 at 0x7F4C29F80CF8>:   5%|▍         | 23/500 [00:00<00:04, 107.07 Samples/s]                 "
          ],
          "name": "stderr"
        },
        {
          "output_type": "stream",
          "text": [
            "Initialised with 80 image(s) found.\n",
            "Output directory set to trainingbenign/output."
          ],
          "name": "stdout"
        },
        {
          "output_type": "stream",
          "text": [
            "Processing <PIL.BmpImagePlugin.BmpImageFile image mode=L size=105x79 at 0x7F4C2473D6D8>: 100%|██████████| 500/500 [00:01<00:00, 376.42 Samples/s]\n",
            "Processing <PIL.Image.Image image mode=L size=137x113 at 0x7F4C24736A20>:   1%|          | 6/750 [00:00<01:18,  9.42 Samples/s]                "
          ],
          "name": "stderr"
        },
        {
          "output_type": "stream",
          "text": [
            "Initialised with 120 image(s) found.\n",
            "Output directory set to trainingmalign/output."
          ],
          "name": "stdout"
        },
        {
          "output_type": "stream",
          "text": [
            "Processing <PIL.Image.Image image mode=L size=191x77 at 0x7F4C245D49E8>: 100%|██████████| 750/750 [00:02<00:00, 345.44 Samples/s]\n"
          ],
          "name": "stderr"
        }
      ]
    },
    {
      "cell_type": "markdown",
      "metadata": {
        "id": "MJkbMGn_jBHe",
        "colab_type": "text"
      },
      "source": [
        "**FORMING TRAINING DATA**"
      ]
    },
    {
      "cell_type": "code",
      "metadata": {
        "id": "buaPYmb4G7GI",
        "colab_type": "code",
        "colab": {}
      },
      "source": [
        "def enumerating (path):\n",
        "  images=[]\n",
        "  filelist = sorted(glob.glob(os.path.join(path, '*.bmp')))\n",
        "  for j, imagepath in enumerate(filelist):\n",
        "    img1 = cv2.imread(filelist[j])\n",
        "    img1 = cv2.resize(img1, (44, 44), interpolation=cv2.INTER_LINEAR)\n",
        "    images.append(img1)\n",
        "  return images\n",
        "\n",
        "def form_training_data (b_path, b_path_aug, m_path, m_path_aug):\n",
        "  images=[]\n",
        "  imgs = enumerating (b_path)\n",
        "  images.extend (imgs)\n",
        "  imgs = enumerating (b_path_aug)\n",
        "  images.extend (imgs)\n",
        "  print (len(images))\n",
        "  imgs = enumerating (m_path)\n",
        "  images.extend (imgs)\n",
        "  imgs = enumerating (m_path_aug)\n",
        "  images.extend (imgs)\n",
        "  print (len(images))\n",
        "  return images"
      ],
      "execution_count": null,
      "outputs": []
    },
    {
      "cell_type": "code",
      "metadata": {
        "id": "2xt4oPtYEVFV",
        "colab_type": "code",
        "colab": {
          "base_uri": "https://localhost:8080/",
          "height": 51
        },
        "outputId": "a5706ae4-aa90-498e-9280-6d27510d0527"
      },
      "source": [
        "images = form_training_data ('trainingbenign','trainingbenign/output','trainingmalign','trainingmalign/output')\n",
        "images = np.stack (images,axis = 0)"
      ],
      "execution_count": null,
      "outputs": [
        {
          "output_type": "stream",
          "text": [
            "580\n",
            "1450\n"
          ],
          "name": "stdout"
        }
      ]
    },
    {
      "cell_type": "code",
      "metadata": {
        "id": "rDmMuhLqlxfD",
        "colab_type": "code",
        "colab": {
          "base_uri": "https://localhost:8080/",
          "height": 34
        },
        "outputId": "2821a9ed-207f-42d5-bd93-670ed1caefd4"
      },
      "source": [
        "images.shape"
      ],
      "execution_count": null,
      "outputs": [
        {
          "output_type": "execute_result",
          "data": {
            "text/plain": [
              "(1450, 44, 44, 3)"
            ]
          },
          "metadata": {
            "tags": []
          },
          "execution_count": 9
        }
      ]
    },
    {
      "cell_type": "code",
      "metadata": {
        "id": "DquJ9yyCMGNf",
        "colab_type": "code",
        "colab": {
          "base_uri": "https://localhost:8080/",
          "height": 34
        },
        "outputId": "42d89aa3-8768-4b22-933f-9fae575c3dd0"
      },
      "source": [
        "print (len(images))"
      ],
      "execution_count": null,
      "outputs": [
        {
          "output_type": "stream",
          "text": [
            "1450\n"
          ],
          "name": "stdout"
        }
      ]
    },
    {
      "cell_type": "markdown",
      "metadata": {
        "id": "FWyOZ7AQjEkH",
        "colab_type": "text"
      },
      "source": [
        "**LABEL TO THE TRAINING IMAGES**"
      ]
    },
    {
      "cell_type": "code",
      "metadata": {
        "id": "FLchx9Y4jPDs",
        "colab_type": "code",
        "colab": {}
      },
      "source": [
        "labels = []\n",
        "for i in range (len(images)):\n",
        "  if (i<580):\n",
        "    labels.append (0)     #0 label for benign lesions\n",
        "  else:\n",
        "    labels.append (1)     #1 label for malignant lesions\n",
        "\n",
        "import numpy as np\n",
        "labels = np.reshape (np.stack(labels, axis = 0), (1450,1))"
      ],
      "execution_count": null,
      "outputs": []
    },
    {
      "cell_type": "code",
      "metadata": {
        "id": "Aq40aE1XkMUj",
        "colab_type": "code",
        "colab": {
          "base_uri": "https://localhost:8080/",
          "height": 34
        },
        "outputId": "6f1e6167-f65e-40a6-f7b5-88fc18b76992"
      },
      "source": [
        "labels.shape"
      ],
      "execution_count": null,
      "outputs": [
        {
          "output_type": "execute_result",
          "data": {
            "text/plain": [
              "(1450, 1)"
            ]
          },
          "metadata": {
            "tags": []
          },
          "execution_count": 12
        }
      ]
    },
    {
      "cell_type": "markdown",
      "metadata": {
        "id": "7zuZQDoll6_J",
        "colab_type": "text"
      },
      "source": [
        "**TRAIN-TEST DATA SPLITTING**"
      ]
    },
    {
      "cell_type": "code",
      "metadata": {
        "id": "COCPqftZlQd0",
        "colab_type": "code",
        "colab": {}
      },
      "source": [
        "train_images, val_images, train_labels, val_labels = train_test_split(images, labels, test_size=0.2, random_state=42) "
      ],
      "execution_count": null,
      "outputs": []
    },
    {
      "cell_type": "code",
      "metadata": {
        "id": "bjZ-GJVfmEV5",
        "colab_type": "code",
        "colab": {}
      },
      "source": [
        "# Normalize pixel values to be between 0 and 1\n",
        "train_images, val_images = train_images / 255.0, val_images / 255.0"
      ],
      "execution_count": null,
      "outputs": []
    },
    {
      "cell_type": "markdown",
      "metadata": {
        "id": "Ten3Br7eOdNl",
        "colab_type": "text"
      },
      "source": [
        "**CREATING MODEL**"
      ]
    },
    {
      "cell_type": "code",
      "metadata": {
        "id": "GDR7t0mxmJrs",
        "colab_type": "code",
        "colab": {}
      },
      "source": [
        "def create_model():\n",
        "  model = Sequential()\n",
        "  model.add(Convolution2D(32, (3, 3), padding = 'same', activation='relu', input_shape=(44,44,3)))\n",
        "  model.add(MaxPooling2D(pool_size=(2,2)))\n",
        "  model.add(Convolution2D(64, (3, 3), padding ='same', activation='relu'))\n",
        "  model.add(MaxPooling2D(pool_size=(2,2)))\n",
        "  # model.add(Dropout(0.25))\n",
        "  model.add(Convolution2D(128, (3, 3),padding = 'same', activation='relu'))\n",
        "  model.add(MaxPooling2D(pool_size=(2,2)))\n",
        "  model.add(Dropout(0.25))\n",
        "  model.add(Flatten())\n",
        "  model.add(Dense(64, activation='tanh'))\n",
        "  # model.add(Dropout(0.5))\n",
        "  model.add(Dense(2, activation='softmax'))\n",
        "  return model"
      ],
      "execution_count": null,
      "outputs": []
    },
    {
      "cell_type": "code",
      "metadata": {
        "id": "5U3zAFZnpM5a",
        "colab_type": "code",
        "colab": {
          "base_uri": "https://localhost:8080/",
          "height": 493
        },
        "outputId": "598a1179-8420-4541-d83a-112696c295b6"
      },
      "source": [
        "model = create_model()\n",
        "model.summary()"
      ],
      "execution_count": null,
      "outputs": [
        {
          "output_type": "stream",
          "text": [
            "Model: \"sequential_6\"\n",
            "_________________________________________________________________\n",
            "Layer (type)                 Output Shape              Param #   \n",
            "=================================================================\n",
            "conv2d_18 (Conv2D)           (None, 44, 44, 32)        896       \n",
            "_________________________________________________________________\n",
            "max_pooling2d_18 (MaxPooling (None, 22, 22, 32)        0         \n",
            "_________________________________________________________________\n",
            "conv2d_19 (Conv2D)           (None, 22, 22, 64)        18496     \n",
            "_________________________________________________________________\n",
            "max_pooling2d_19 (MaxPooling (None, 11, 11, 64)        0         \n",
            "_________________________________________________________________\n",
            "conv2d_20 (Conv2D)           (None, 11, 11, 128)       73856     \n",
            "_________________________________________________________________\n",
            "max_pooling2d_20 (MaxPooling (None, 5, 5, 128)         0         \n",
            "_________________________________________________________________\n",
            "dropout_9 (Dropout)          (None, 5, 5, 128)         0         \n",
            "_________________________________________________________________\n",
            "flatten_6 (Flatten)          (None, 3200)              0         \n",
            "_________________________________________________________________\n",
            "dense_12 (Dense)             (None, 64)                204864    \n",
            "_________________________________________________________________\n",
            "dense_13 (Dense)             (None, 2)                 130       \n",
            "=================================================================\n",
            "Total params: 298,242\n",
            "Trainable params: 298,242\n",
            "Non-trainable params: 0\n",
            "_________________________________________________________________\n"
          ],
          "name": "stdout"
        }
      ]
    },
    {
      "cell_type": "markdown",
      "metadata": {
        "id": "8TmUl2mJOhBK",
        "colab_type": "text"
      },
      "source": [
        "**COMPILING MODEL**"
      ]
    },
    {
      "cell_type": "code",
      "metadata": {
        "id": "RyWuYqO7pV6E",
        "colab_type": "code",
        "colab": {
          "base_uri": "https://localhost:8080/",
          "height": 1000
        },
        "outputId": "ec87e6f7-e2d9-411c-abac-4714d5a98f74"
      },
      "source": [
        "model.compile(optimizer='adam',\n",
        "              loss='sparse_categorical_crossentropy',\n",
        "              metrics=['accuracy'])\n",
        "\n",
        "checkpoint_path = \"gdrive/My Drive/classification_model/model.ckpt\"\n",
        "checkpoint_dir = os.path.dirname(checkpoint_path)\n",
        "\n",
        "# Create a callback that saves the model's weights\n",
        "cp_callback = tf.keras.callbacks.ModelCheckpoint(filepath=checkpoint_path,\n",
        "                                                 save_weights_only=True,\n",
        "                                                 verbose=1)\n",
        "\n",
        "history = model.fit(train_images, train_labels, epochs=20, \n",
        "                    validation_data=(val_images, val_labels),callbacks=[cp_callback])"
      ],
      "execution_count": null,
      "outputs": [
        {
          "output_type": "stream",
          "text": [
            "Epoch 1/20\n",
            "30/37 [=======================>......] - ETA: 0s - loss: 0.6799 - accuracy: 0.5813\n",
            "Epoch 00001: saving model to gdrive/My Drive/classification_model/model.ckpt\n",
            "37/37 [==============================] - 0s 9ms/step - loss: 0.6724 - accuracy: 0.5853 - val_loss: 0.6150 - val_accuracy: 0.7345\n",
            "Epoch 2/20\n",
            "30/37 [=======================>......] - ETA: 0s - loss: 0.5501 - accuracy: 0.7354\n",
            "Epoch 00002: saving model to gdrive/My Drive/classification_model/model.ckpt\n",
            "37/37 [==============================] - 0s 7ms/step - loss: 0.5231 - accuracy: 0.7500 - val_loss: 0.4051 - val_accuracy: 0.8310\n",
            "Epoch 3/20\n",
            "30/37 [=======================>......] - ETA: 0s - loss: 0.3722 - accuracy: 0.8344\n",
            "Epoch 00003: saving model to gdrive/My Drive/classification_model/model.ckpt\n",
            "37/37 [==============================] - 0s 6ms/step - loss: 0.3636 - accuracy: 0.8371 - val_loss: 0.3260 - val_accuracy: 0.8552\n",
            "Epoch 4/20\n",
            "29/37 [======================>.......] - ETA: 0s - loss: 0.3185 - accuracy: 0.8599\n",
            "Epoch 00004: saving model to gdrive/My Drive/classification_model/model.ckpt\n",
            "37/37 [==============================] - 0s 10ms/step - loss: 0.3060 - accuracy: 0.8690 - val_loss: 0.3176 - val_accuracy: 0.8621\n",
            "Epoch 5/20\n",
            "30/37 [=======================>......] - ETA: 0s - loss: 0.2682 - accuracy: 0.8906\n",
            "Epoch 00005: saving model to gdrive/My Drive/classification_model/model.ckpt\n",
            "37/37 [==============================] - 0s 6ms/step - loss: 0.2609 - accuracy: 0.8974 - val_loss: 0.2263 - val_accuracy: 0.9138\n",
            "Epoch 6/20\n",
            "30/37 [=======================>......] - ETA: 0s - loss: 0.2183 - accuracy: 0.9229\n",
            "Epoch 00006: saving model to gdrive/My Drive/classification_model/model.ckpt\n",
            "37/37 [==============================] - 0s 6ms/step - loss: 0.2143 - accuracy: 0.9250 - val_loss: 0.2110 - val_accuracy: 0.9276\n",
            "Epoch 7/20\n",
            "31/37 [========================>.....] - ETA: 0s - loss: 0.2189 - accuracy: 0.9214\n",
            "Epoch 00007: saving model to gdrive/My Drive/classification_model/model.ckpt\n",
            "37/37 [==============================] - 0s 9ms/step - loss: 0.2193 - accuracy: 0.9207 - val_loss: 0.1662 - val_accuracy: 0.9414\n",
            "Epoch 8/20\n",
            "30/37 [=======================>......] - ETA: 0s - loss: 0.1869 - accuracy: 0.9292\n",
            "Epoch 00008: saving model to gdrive/My Drive/classification_model/model.ckpt\n",
            "37/37 [==============================] - 0s 6ms/step - loss: 0.1914 - accuracy: 0.9284 - val_loss: 0.1574 - val_accuracy: 0.9517\n",
            "Epoch 9/20\n",
            "28/37 [=====================>........] - ETA: 0s - loss: 0.1818 - accuracy: 0.9397\n",
            "Epoch 00009: saving model to gdrive/My Drive/classification_model/model.ckpt\n",
            "37/37 [==============================] - 0s 6ms/step - loss: 0.1671 - accuracy: 0.9405 - val_loss: 0.1885 - val_accuracy: 0.9241\n",
            "Epoch 10/20\n",
            "27/37 [====================>.........] - ETA: 0s - loss: 0.1341 - accuracy: 0.9641\n",
            "Epoch 00010: saving model to gdrive/My Drive/classification_model/model.ckpt\n",
            "37/37 [==============================] - 0s 10ms/step - loss: 0.1345 - accuracy: 0.9595 - val_loss: 0.1334 - val_accuracy: 0.9655\n",
            "Epoch 11/20\n",
            "31/37 [========================>.....] - ETA: 0s - loss: 0.1167 - accuracy: 0.9637\n",
            "Epoch 00011: saving model to gdrive/My Drive/classification_model/model.ckpt\n",
            "37/37 [==============================] - 0s 6ms/step - loss: 0.1130 - accuracy: 0.9621 - val_loss: 0.1708 - val_accuracy: 0.9483\n",
            "Epoch 12/20\n",
            "31/37 [========================>.....] - ETA: 0s - loss: 0.0950 - accuracy: 0.9637\n",
            "Epoch 00012: saving model to gdrive/My Drive/classification_model/model.ckpt\n",
            "37/37 [==============================] - 0s 6ms/step - loss: 0.1045 - accuracy: 0.9603 - val_loss: 0.1059 - val_accuracy: 0.9621\n",
            "Epoch 13/20\n",
            "31/37 [========================>.....] - ETA: 0s - loss: 0.1025 - accuracy: 0.9607\n",
            "Epoch 00013: saving model to gdrive/My Drive/classification_model/model.ckpt\n",
            "37/37 [==============================] - 0s 9ms/step - loss: 0.1027 - accuracy: 0.9612 - val_loss: 0.1711 - val_accuracy: 0.9414\n",
            "Epoch 14/20\n",
            "31/37 [========================>.....] - ETA: 0s - loss: 0.1088 - accuracy: 0.9657\n",
            "Epoch 00014: saving model to gdrive/My Drive/classification_model/model.ckpt\n",
            "37/37 [==============================] - 0s 6ms/step - loss: 0.1085 - accuracy: 0.9664 - val_loss: 0.1529 - val_accuracy: 0.9483\n",
            "Epoch 15/20\n",
            "31/37 [========================>.....] - ETA: 0s - loss: 0.1028 - accuracy: 0.9708\n",
            "Epoch 00015: saving model to gdrive/My Drive/classification_model/model.ckpt\n",
            "37/37 [==============================] - 0s 6ms/step - loss: 0.0959 - accuracy: 0.9716 - val_loss: 0.1030 - val_accuracy: 0.9586\n",
            "Epoch 16/20\n",
            "31/37 [========================>.....] - ETA: 0s - loss: 0.0637 - accuracy: 0.9819\n",
            "Epoch 00016: saving model to gdrive/My Drive/classification_model/model.ckpt\n",
            "37/37 [==============================] - 0s 9ms/step - loss: 0.0618 - accuracy: 0.9836 - val_loss: 0.1006 - val_accuracy: 0.9586\n",
            "Epoch 17/20\n",
            "30/37 [=======================>......] - ETA: 0s - loss: 0.0495 - accuracy: 0.9844\n",
            "Epoch 00017: saving model to gdrive/My Drive/classification_model/model.ckpt\n",
            "37/37 [==============================] - 0s 6ms/step - loss: 0.0574 - accuracy: 0.9810 - val_loss: 0.1381 - val_accuracy: 0.9552\n",
            "Epoch 18/20\n",
            "31/37 [========================>.....] - ETA: 0s - loss: 0.0624 - accuracy: 0.9778\n",
            "Epoch 00018: saving model to gdrive/My Drive/classification_model/model.ckpt\n",
            "37/37 [==============================] - 0s 6ms/step - loss: 0.0577 - accuracy: 0.9784 - val_loss: 0.0800 - val_accuracy: 0.9655\n",
            "Epoch 19/20\n",
            "29/37 [======================>.......] - ETA: 0s - loss: 0.0601 - accuracy: 0.9806\n",
            "Epoch 00019: saving model to gdrive/My Drive/classification_model/model.ckpt\n",
            "37/37 [==============================] - 0s 10ms/step - loss: 0.0567 - accuracy: 0.9810 - val_loss: 0.1243 - val_accuracy: 0.9586\n",
            "Epoch 20/20\n",
            "29/37 [======================>.......] - ETA: 0s - loss: 0.0425 - accuracy: 0.9881\n",
            "Epoch 00020: saving model to gdrive/My Drive/classification_model/model.ckpt\n",
            "37/37 [==============================] - 0s 6ms/step - loss: 0.0412 - accuracy: 0.9871 - val_loss: 0.0840 - val_accuracy: 0.9621\n"
          ],
          "name": "stdout"
        }
      ]
    },
    {
      "cell_type": "markdown",
      "metadata": {
        "id": "1txbNDXOOl2J",
        "colab_type": "text"
      },
      "source": [
        "**PLOTTING HISTORY**"
      ]
    },
    {
      "cell_type": "code",
      "metadata": {
        "id": "IObfMQpvtjRN",
        "colab_type": "code",
        "colab": {}
      },
      "source": [
        "def plot(network_history):\n",
        "    plt.figure()\n",
        "    plt.xlabel('Epochs')\n",
        "    plt.ylabel('Loss')\n",
        "    plt.plot(network_history.history['loss'])\n",
        "    plt.plot(network_history.history['val_loss'])\n",
        "    plt.legend(['Training', 'Validation'])\n",
        "\n",
        "    plt.figure()\n",
        "    plt.xlabel('Epochs')\n",
        "    plt.ylabel('Accuracy')\n",
        "    plt.plot(network_history.history['accuracy'])\n",
        "    plt.plot(network_history.history['val_accuracy'])\n",
        "    plt.legend(['Training', 'Validation'], loc='lower right')"
      ],
      "execution_count": null,
      "outputs": []
    },
    {
      "cell_type": "code",
      "metadata": {
        "id": "XBQ_hufwvmHj",
        "colab_type": "code",
        "colab": {
          "base_uri": "https://localhost:8080/",
          "height": 545
        },
        "outputId": "bb6b0890-a397-4d5c-eb57-de62d5f034eb"
      },
      "source": [
        "plot (history)"
      ],
      "execution_count": null,
      "outputs": [
        {
          "output_type": "display_data",
          "data": {
            "image/png": "[encoded data removed]",
            "text/plain": [
              "<Figure size 432x288 with 1 Axes>"
            ]
          },
          "metadata": {
            "tags": [],
            "needs_background": "light"
          }
        },
        {
          "output_type": "display_data",
          "data": {
            "image/png": "[encoded data removed]",
            "text/plain": [
              "<Figure size 432x288 with 1 Axes>"
            ]
          },
          "metadata": {
            "tags": [],
            "needs_background": "light"
          }
        }
      ]
    },
    {
      "cell_type": "markdown",
      "metadata": {
        "id": "A5_4YYhAOp5U",
        "colab_type": "text"
      },
      "source": [
        "**LOADING SAVED MODEL**"
      ]
    },
    {
      "cell_type": "code",
      "metadata": {
        "id": "hEZnwBe7voRo",
        "colab_type": "code",
        "colab": {
          "base_uri": "https://localhost:8080/",
          "height": 34
        },
        "outputId": "fce8dc20-08a5-49d3-f005-c4fcdd99a06c"
      },
      "source": [
        "model = create_model ()\n",
        "checkpoint_path = \"gdrive/My Drive/classification_model/model.ckpt\"\n",
        "model.load_weights(checkpoint_path)"
      ],
      "execution_count": null,
      "outputs": [
        {
          "output_type": "execute_result",
          "data": {
            "text/plain": [
              "<tensorflow.python.training.tracking.util.CheckpointLoadStatus at 0x7fe29c3cec18>"
            ]
          },
          "metadata": {
            "tags": []
          },
          "execution_count": 5
        }
      ]
    },
    {
      "cell_type": "markdown",
      "metadata": {
        "id": "PzGEviVWP5zy",
        "colab_type": "text"
      },
      "source": [
        "**PREDICTION ON TEST IMAGES**"
      ]
    },
    {
      "cell_type": "code",
      "metadata": {
        "id": "PGb9l-YOOuos",
        "colab_type": "code",
        "colab": {}
      },
      "source": [
        "def pred (image):\n",
        "  data = []\n",
        "  data.append(image)\n",
        "  X_test = np.array(data)\n",
        "  X_test = X_test.astype('float32')/255 \n",
        "  pred = model.predict_classes(X_test)\n",
        "  return pred[0]  "
      ],
      "execution_count": null,
      "outputs": []
    },
    {
      "cell_type": "code",
      "metadata": {
        "id": "jD1-JZ7EQIIt",
        "colab_type": "code",
        "colab": {}
      },
      "source": [
        "## PREDICTION ON TEST BENIGN\n",
        "\n",
        "filelist = sorted(glob.glob(os.path.join('testbenign', '*.bmp')))\n",
        "t_benign = []\n",
        "for j, imagepath in enumerate(filelist):\n",
        "  img1 = cv2.imread(filelist[j])\n",
        "  img1 = cv2.resize(img1, (44, 44), interpolation=cv2.INTER_LINEAR)\n",
        "  label = pred (np.array (img1))\n",
        "  t_benign.append (label)"
      ],
      "execution_count": null,
      "outputs": []
    },
    {
      "cell_type": "code",
      "metadata": {
        "id": "8wim3WswQ_z9",
        "colab_type": "code",
        "colab": {
          "base_uri": "https://localhost:8080/",
          "height": 34
        },
        "outputId": "9f12868e-481d-439f-fb25-e61bef7cde17"
      },
      "source": [
        "print (t_benign)"
      ],
      "execution_count": null,
      "outputs": [
        {
          "output_type": "stream",
          "text": [
            "[0, 0, 0, 0, 0, 0, 0, 0, 0, 0, 0, 0, 0, 0, 0, 0, 0, 0, 0, 0]\n"
          ],
          "name": "stdout"
        }
      ]
    },
    {
      "cell_type": "code",
      "metadata": {
        "id": "vfWXs1VsRIo5",
        "colab_type": "code",
        "colab": {}
      },
      "source": [
        "## PREDICTION ON TEST MALIGNANT\n",
        "\n",
        "filelist = sorted(glob.glob(os.path.join('testmalign', '*.bmp')))\n",
        "t_malignant = []\n",
        "for j, imagepath in enumerate(filelist):\n",
        "  img1 = cv2.imread(filelist[j])\n",
        "  img1 = cv2.resize(img1, (44, 44), interpolation=cv2.INTER_LINEAR)\n",
        "  label = pred (np.array (img1))\n",
        "  t_malignant.append (label)"
      ],
      "execution_count": null,
      "outputs": []
    },
    {
      "cell_type": "code",
      "metadata": {
        "id": "Q1oKBXUYRc_6",
        "colab_type": "code",
        "colab": {
          "base_uri": "https://localhost:8080/",
          "height": 34
        },
        "outputId": "43ef9837-fbae-48da-d81e-6eadfd474190"
      },
      "source": [
        "print (t_malignant)"
      ],
      "execution_count": null,
      "outputs": [
        {
          "output_type": "stream",
          "text": [
            "[1, 1, 1, 1, 1, 1, 1, 1, 1, 1, 1, 1, 1, 1, 1, 1, 1, 1, 1, 1, 1, 1, 1, 1, 1, 1, 1, 1, 1, 1]\n"
          ],
          "name": "stdout"
        }
      ]
    },
    {
      "cell_type": "markdown",
      "metadata": {
        "id": "GOCj5ZATiet9",
        "colab_type": "text"
      },
      "source": [
        "**RED ATTACK**"
      ]
    },
    {
      "cell_type": "code",
      "metadata": {
        "id": "kQ0ERb8ZReJy",
        "colab_type": "code",
        "colab": {}
      },
      "source": [
        ""
      ],
      "execution_count": null,
      "outputs": []
    }
  ]
}